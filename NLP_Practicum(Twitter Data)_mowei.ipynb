{
 "cells": [
  {
   "cell_type": "markdown",
   "metadata": {},
   "source": [
    "# NLP Practicum (Twitter Data) - Mo Wei"
   ]
  },
  {
   "cell_type": "markdown",
   "metadata": {
    "scrolled": true
   },
   "source": [
    "## Problem Statement: "
   ]
  },
  {
   "cell_type": "markdown",
   "metadata": {},
   "source": [
    "This practicum aims to extract the features of tweets and analyze the opinion of tweets as positive, negative or neutral.\n",
    "\n",
    "**Input:** Textual content of a tweet  \n",
    "**Output:** Label signifying if the sentiment of the tweet is positive/negative/neutral"
   ]
  },
  {
   "cell_type": "markdown",
   "metadata": {},
   "source": [
    "**Steps:**\n",
    "\n",
    "1. Load the libraries\n",
    "2. Exploratory data analysis\n",
    "3. Data Preprocessing and Feature Engineering\n",
    "    - Removal of punctuations (Use regular expression to remove punctuations like @, # etc... also remove **numbers** from tweets)\n",
    "    - Removal of commonly used words (stopwords).\n",
    "    - Normalization of words.\n",
    "4. plot word cloud for top 25 positive and negative tweets\n",
    "5. Vectorization and Model Selection\n",
    "    - Vectorization using **`Bag-of-words and TF-IDF`**\n",
    "    - Select model of your choice\n",
    "    \n",
    "6. Performance measure: Classification Report, Confusion matrix and Accuracy score\n",
    "7. Compare and Interprete the result for Bag-of-words and TF-IDF"
   ]
  },
  {
   "cell_type": "code",
   "execution_count": 1,
   "metadata": {},
   "outputs": [],
   "source": [
    "# Load Libraries\n",
    "import pandas as pd\n",
    "import seaborn as sns\n",
    "import numpy as np\n",
    "import matplotlib.pyplot as plt\n",
    "%matplotlib inline\n",
    "import string\n",
    "import nltk\n",
    "from nltk.stem import WordNetLemmatizer\n",
    "from sklearn.model_selection import train_test_split\n",
    "from sklearn.feature_extraction.text import CountVectorizer,TfidfTransformer,TfidfVectorizer\n",
    "from textblob import TextBlob\n",
    "from wordcloud import WordCloud, STOPWORDS\n",
    "from sklearn.decomposition import LatentDirichletAllocation\n",
    "from sklearn.naive_bayes import MultinomialNB\n",
    "from sklearn.svm import LinearSVC\n",
    "from sklearn.linear_model import LogisticRegression\n",
    "from sklearn import metrics\n",
    "import nltk\n",
    "from nltk.corpus import wordnet\n",
    "import string\n",
    "import re\n",
    "from matplotlib import pyplot as plt"
   ]
  },
  {
   "cell_type": "code",
   "execution_count": 2,
   "metadata": {
    "scrolled": true
   },
   "outputs": [
    {
     "name": "stderr",
     "output_type": "stream",
     "text": [
      "<ipython-input-2-076ee6d60e3f>:4: SettingWithCopyWarning: \n",
      "A value is trying to be set on a copy of a slice from a DataFrame\n",
      "\n",
      "See the caveats in the documentation: https://pandas.pydata.org/pandas-docs/stable/user_guide/indexing.html#returning-a-view-versus-a-copy\n",
      "  train_data.tweet[i] = train_data.tweet[i].encode(encoding='latin1',errors = 'ignore').decode(errors='ignore')\n"
     ]
    }
   ],
   "source": [
    "#load train dataset\n",
    "train_data = pd.read_csv('train_tweets.csv')\n",
    "for i in range(len(train_data.tweet)):  \n",
    "    train_data.tweet[i] = train_data.tweet[i].encode(encoding='latin1',errors = 'ignore')-*"
   ]
  },
  {
   "cell_type": "code",
   "execution_count": 3,
   "metadata": {},
   "outputs": [
    {
     "name": "stderr",
     "output_type": "stream",
     "text": [
      "<ipython-input-3-79741b88ca03>:4: SettingWithCopyWarning: \n",
      "A value is trying to be set on a copy of a slice from a DataFrame\n",
      "\n",
      "See the caveats in the documentation: https://pandas.pydata.org/pandas-docs/stable/user_guide/indexing.html#returning-a-view-versus-a-copy\n",
      "  test_data.tweet[j] = test_data.tweet[j].encode(encoding='latin1',errors = 'ignore').decode(errors='ignore')\n"
     ]
    }
   ],
   "source": [
    "#load test dataset\n",
    "test_data = pd.read_csv('test_tweets.csv')\n",
    "for j in range(len(test_data.tweet)):  \n",
    "    test_data.tweet[j] = test_data.tweet[j].encode(encoding='latin1',errors = 'ignore').decode(errors='ignore')"
   ]
  },
  {
   "cell_type": "code",
   "execution_count": 4,
   "metadata": {},
   "outputs": [
    {
     "name": "stdout",
     "output_type": "stream",
     "text": [
      "train data head: \n",
      "    id  label                                              tweet\n",
      "0   1      0   @user when a father is dysfunctional and is s...\n",
      "1   2      0  @user @user thanks for #lyft credit i can't us...\n",
      "2   3      0                                bihday your majesty\n",
      "3   4      0  #model   i love u take with u all the time in ...\n",
      "4   5      0             factsguide: society now    #motivation\n",
      "test data head: \n",
      "       id                                              tweet\n",
      "0  31963  #studiolife #aislife #requires #passion #dedic...\n",
      "1  31964   @user #white #supremacists want everyone to s...\n",
      "2  31965  safe ways to heal your #acne!!    #altwaystohe...\n",
      "3  31966  is the hp and the cursed child book up for res...\n",
      "4  31967    3rd #bihday to my amazing, hilarious #nephew...\n"
     ]
    }
   ],
   "source": [
    "print('train data head: \\n', train_data.head())\n",
    "print('test data head: \\n', test_data.head())"
   ]
  },
  {
   "cell_type": "code",
   "execution_count": 5,
   "metadata": {},
   "outputs": [
    {
     "name": "stdout",
     "output_type": "stream",
     "text": [
      "train data info: \n",
      " <bound method DataFrame.info of           id  label                                              tweet\n",
      "0          1      0   @user when a father is dysfunctional and is s...\n",
      "1          2      0  @user @user thanks for #lyft credit i can't us...\n",
      "2          3      0                                bihday your majesty\n",
      "3          4      0  #model   i love u take with u all the time in ...\n",
      "4          5      0             factsguide: society now    #motivation\n",
      "...      ...    ...                                                ...\n",
      "31957  31958      0              ate @user isz that youuu?😍😍😍😍😍😍😍😍😍❤️ \n",
      "31958  31959      0    to see nina turner on the airwaves trying to...\n",
      "31959  31960      0  listening to sad songs on a monday morning otw...\n",
      "31960  31961      1  @user #sikh #temple vandalised in in #calgary,...\n",
      "31961  31962      0                   thank you @user for you follow  \n",
      "\n",
      "[31962 rows x 3 columns]>\n",
      "test data info: \n",
      " <bound method DataFrame.info of           id                                              tweet\n",
      "0      31963  #studiolife #aislife #requires #passion #dedic...\n",
      "1      31964   @user #white #supremacists want everyone to s...\n",
      "2      31965  safe ways to heal your #acne!!    #altwaystohe...\n",
      "3      31966  is the hp and the cursed child book up for res...\n",
      "4      31967    3rd #bihday to my amazing, hilarious #nephew...\n",
      "...      ...                                                ...\n",
      "17192  49155  thought factory: left-right polarisation! #tru...\n",
      "17193  49156  feeling like a mermaid 😘 #hairflip #neverready...\n",
      "17194  49157  #hillary #campaigned today in #ohio((omg)) &am...\n",
      "17195  49158  happy, at work conference: right mindset leads...\n",
      "17196  49159  my   song \"so glad\" free download!  #shoegaze ...\n",
      "\n",
      "[17197 rows x 2 columns]>\n"
     ]
    }
   ],
   "source": [
    "print('train data info: \\n', train_data.info)\n",
    "print('test data info: \\n', test_data.info)"
   ]
  },
  {
   "cell_type": "code",
   "execution_count": 6,
   "metadata": {},
   "outputs": [
    {
     "name": "stdout",
     "output_type": "stream",
     "text": [
      "train data null sum: \n",
      " id       0\n",
      "label    0\n",
      "tweet    0\n",
      "dtype: int64\n",
      "test data null sum: \n",
      " id       0\n",
      "tweet    0\n",
      "dtype: int64\n"
     ]
    }
   ],
   "source": [
    "# train_data.isnull().sum()\n",
    "print('train data null sum: \\n', train_data.isnull().sum())\n",
    "print('test data null sum: \\n', test_data.isnull().sum())"
   ]
  },
  {
   "cell_type": "code",
   "execution_count": 7,
   "metadata": {
    "scrolled": true
   },
   "outputs": [
    {
     "data": {
      "text/plain": [
       "0    29720\n",
       "1     2242\n",
       "Name: label, dtype: int64"
      ]
     },
     "execution_count": 7,
     "metadata": {},
     "output_type": "execute_result"
    }
   ],
   "source": [
    "train_data['label'].value_counts()"
   ]
  },
  {
   "cell_type": "code",
   "execution_count": 8,
   "metadata": {
    "scrolled": false
   },
   "outputs": [
    {
     "data": {
      "image/png": "[encoded data removed]",
      "text/plain": [
       "<Figure size 576x432 with 1 Axes>"
      ]
     },
     "metadata": {
      "needs_background": "light"
     },
     "output_type": "display_data"
    }
   ],
   "source": [
    "plt.figure(figsize=(8,6))\n",
    "sns.countplot(x=train_data['label'], data=train_data)\n",
    "plt.title('train data set distribution')\n",
    "plt.show()"
   ]
  },
  {
   "cell_type": "code",
   "execution_count": 9,
   "metadata": {},
   "outputs": [],
   "source": [
    "X_train = train_data['tweet']\n",
    "Y_train = train_data['label']\n",
    "\n",
    "X_test = test_data['tweet']"
   ]
  },
  {
   "cell_type": "code",
   "execution_count": 10,
   "metadata": {},
   "outputs": [],
   "source": [
    "# UDF(User Defined Function) to find sentiment polarity of the reviews\n",
    "def sentiment_review(text):\n",
    "    analysis = TextBlob(text)\n",
    "    polarity_text = analysis.sentiment.polarity\n",
    "    if polarity_text > 0:\n",
    "        return 'Positive'\n",
    "    elif polarity_text == 0:\n",
    "        return 'Neutral'\n",
    "    else:\n",
    "        return 'Negative'  "
   ]
  },
  {
   "cell_type": "code",
   "execution_count": 11,
   "metadata": {},
   "outputs": [],
   "source": [
    "# creating dictionary which will contain both the tweets and the sentiment of the review\n",
    "train_dictionary = []\n",
    "for text in X_train:\n",
    "    dictionary_sentiment = {}\n",
    "    dictionary_sentiment['tweet'] = text\n",
    "    dictionary_sentiment['Sentiment'] = sentiment_review(text)\n",
    "    train_dictionary.append(dictionary_sentiment)\n",
    "\n",
    "test_dictionary = []\n",
    "for text in X_test:\n",
    "    dictionary_sentiment = {}\n",
    "    dictionary_sentiment['tweet'] = text\n",
    "    dictionary_sentiment['Sentiment'] = sentiment_review(text)\n",
    "    test_dictionary.append(dictionary_sentiment)\n"
   ]
  },
  {
   "cell_type": "code",
   "execution_count": 12,
   "metadata": {
    "scrolled": true
   },
   "outputs": [
    {
     "name": "stdout",
     "output_type": "stream",
     "text": [
      "Train dataset positive tweets: \n",
      " [{'tweet': \"@user @user thanks for #lyft credit i can't use cause they don't offer wheelchair vans in pdx.    #disapointed #getthanked\", 'Sentiment': 'Positive'}, {'tweet': '#model   i love u take with u all the time in ur📱!!! 😙😎👄👅💦💦💦  ', 'Sentiment': 'Positive'}, {'tweet': '[2/2] huge fan fare and big talking before they leave. chaos and pay disputes when they get there. #allshowandnogo  ', 'Sentiment': 'Positive'}, {'tweet': 'we won!!! love the land!!! #allin #cavs #champions #cleveland #clevelandcavaliers  … ', 'Sentiment': 'Positive'}, {'tweet': \" @user @user welcome here !  i'm   it's so #gr8 ! \", 'Sentiment': 'Positive'}]\n",
      "Test dataset positive tweets: \n",
      " [{'tweet': ' @user #white #supremacists want everyone to see the new ‘  #birds’ #movie — and here’s why  ', 'Sentiment': 'Positive'}, {'tweet': 'safe ways to heal your #acne!!    #altwaystoheal #healthy   #healing!! ', 'Sentiment': 'Positive'}, {'tweet': 'is the hp and the cursed child book up for reservations already? if yes, where? if no, when? 😍😍😍   #harrypotter #pottermore #favorite', 'Sentiment': 'Positive'}, {'tweet': '  3rd #bihday to my amazing, hilarious #nephew eli ahmir! uncle dave loves you and misses… ', 'Sentiment': 'Positive'}, {'tweet': 'choose to be   :) #momtips ', 'Sentiment': 'Positive'}]\n"
     ]
    }
   ],
   "source": [
    "# Finding positive reviews for train dataset\n",
    "positive_train = []\n",
    "for review in train_dictionary:\n",
    "    if review['Sentiment'] =='Positive':\n",
    "        positive_train.append(review)\n",
    "print('Train dataset positive tweets: \\n',positive_train[:5])\n",
    "\n",
    "# Finding positive reviews for test dataset\n",
    "positive_test = []\n",
    "for review in test_dictionary:\n",
    "    if review['Sentiment'] =='Positive':\n",
    "        positive_test.append(review)\n",
    "print('Test dataset positive tweets: \\n', positive_test[:5])"
   ]
  },
  {
   "cell_type": "code",
   "execution_count": 13,
   "metadata": {
    "scrolled": true
   },
   "outputs": [
    {
     "name": "stdout",
     "output_type": "stream",
     "text": [
      "Train dataset neutral tweets: \n",
      " [{'tweet': '  bihday your majesty', 'Sentiment': 'Neutral'}, {'tweet': ' factsguide: society now    #motivation', 'Sentiment': 'Neutral'}, {'tweet': ' @user camping tomorrow @user @user @user @user @user @user @user danny…', 'Sentiment': 'Neutral'}, {'tweet': 'i get to see my daddy today!!   #80days #gettingfed', 'Sentiment': 'Neutral'}, {'tweet': \"@user #cnn calls #michigan middle school 'build the wall' chant '' #tcot  \", 'Sentiment': 'Neutral'}]\n",
      "Test dataset neutral tweets: \n",
      " [{'tweet': '#studiolife #aislife #requires #passion #dedication #willpower   to find #newmaterials… ', 'Sentiment': 'Neutral'}, {'tweet': '#finished#tattoo#inked#ink#loveit❤️ #❤️❤️❤️❤️ #thanks#aleeee !!! ', 'Sentiment': 'Neutral'}, {'tweet': 'i ate,i ate and i ate...😀😊   #jamaisasthi #fish #curry #prawn #hilsa #foodfestival #foodies ', 'Sentiment': 'Neutral'}, {'tweet': '👭🌞💖 #girls   #sun #fave @ london, united kingdom ', 'Sentiment': 'Neutral'}, {'tweet': ' @user @user  @user  #levyrroni #recuerdos memories💭❤🔗👫💏 #recuerdos    #friends #life #triunfodelamor ', 'Sentiment': 'Neutral'}]\n"
     ]
    }
   ],
   "source": [
    "# Finding neutral reviews for train dataset\n",
    "neutral_train = []\n",
    "for review in train_dictionary:\n",
    "    if review['Sentiment'] =='Neutral':\n",
    "        neutral_train.append(review)\n",
    "print('Train dataset neutral tweets: \\n',neutral_train[:5])\n",
    "\n",
    "# Finding neutral reviews for test dataset\n",
    "neutral_test = []\n",
    "for review in test_dictionary:\n",
    "    if review['Sentiment'] =='Neutral':\n",
    "        neutral_test.append(review)\n",
    "print('Test dataset neutral tweets: \\n',neutral_test[:5])"
   ]
  },
  {
   "cell_type": "code",
   "execution_count": 14,
   "metadata": {
    "scrolled": true
   },
   "outputs": [
    {
     "name": "stdout",
     "output_type": "stream",
     "text": [
      "Train dataset negative tweets: \n",
      " [{'tweet': ' @user when a father is dysfunctional and is so selfish he drags his kids into his dysfunction.   #run', 'Sentiment': 'Negative'}, {'tweet': \"the next school year is the year for exams.😯 can't think about that 😭 #school #exams   #hate #imagine #actorslife #revolutionschool #girl\", 'Sentiment': 'Negative'}, {'tweet': ' ↝ #ireland consumer price index (mom) climbed from previous 0.2% to 0.5% in may   #blog #silver #gold #forex', 'Sentiment': 'Negative'}, {'tweet': 'we are so selfish. #orlando #standwithorlando #pulseshooting #orlandoshooting #biggerproblems #selfish #heabreaking   #values #love #', 'Sentiment': 'Negative'}, {'tweet': 'sad little dude..   #badday #coneofshame #cats #pissed #funny #laughs ', 'Sentiment': 'Negative'}]\n",
      "Train dataset negative tweets: \n",
      " [{'tweet': ' @user when a father is dysfunctional and is so selfish he drags his kids into his dysfunction.   #run', 'Sentiment': 'Negative'}, {'tweet': \"the next school year is the year for exams.😯 can't think about that 😭 #school #exams   #hate #imagine #actorslife #revolutionschool #girl\", 'Sentiment': 'Negative'}, {'tweet': ' ↝ #ireland consumer price index (mom) climbed from previous 0.2% to 0.5% in may   #blog #silver #gold #forex', 'Sentiment': 'Negative'}, {'tweet': 'we are so selfish. #orlando #standwithorlando #pulseshooting #orlandoshooting #biggerproblems #selfish #heabreaking   #values #love #', 'Sentiment': 'Negative'}, {'tweet': 'sad little dude..   #badday #coneofshame #cats #pissed #funny #laughs ', 'Sentiment': 'Negative'}]\n"
     ]
    }
   ],
   "source": [
    "# Finding negative reviews for negative train dataset\n",
    "negative_train = []\n",
    "for review in train_dictionary:\n",
    "    if review['Sentiment'] =='Negative':\n",
    "        negative_train.append(review)\n",
    "print('Train dataset negative tweets: \\n', negative_train[:5])\n",
    "\n",
    "# Finding negative reviews for negative test dataset\n",
    "negative_test = []\n",
    "for review in train_dictionary:\n",
    "    if review['Sentiment'] =='Negative':\n",
    "        negative_test.append(review)\n",
    "print('Train dataset negative tweets: \\n', negative_test[:5])"
   ]
  },
  {
   "cell_type": "code",
   "execution_count": 15,
   "metadata": {},
   "outputs": [],
   "source": [
    "# counting number of positive,neutral and negative reviews\n",
    "train_count = pd.DataFrame([len(positive_train),len(neutral_train),len(negative_train)],index=['Positive','Neutral','Negative'])\n",
    "test_count = pd.DataFrame([len(positive_test),len(neutral_test),len(negative_test)],index=['Positive','Neutral','Negative'])"
   ]
  },
  {
   "cell_type": "code",
   "execution_count": 16,
   "metadata": {},
   "outputs": [
    {
     "data": {
      "text/html": [
       "<div>\n",
       "<style scoped>\n",
       "    .dataframe tbody tr th:only-of-type {\n",
       "        vertical-align: middle;\n",
       "    }\n",
       "\n",
       "    .dataframe tbody tr th {\n",
       "        vertical-align: top;\n",
       "    }\n",
       "\n",
       "    .dataframe thead th {\n",
       "        text-align: right;\n",
       "    }\n",
       "</style>\n",
       "<table border=\"1\" class=\"dataframe\">\n",
       "  <thead>\n",
       "    <tr style=\"text-align: right;\">\n",
       "      <th></th>\n",
       "      <th>0</th>\n",
       "    </tr>\n",
       "  </thead>\n",
       "  <tbody>\n",
       "    <tr>\n",
       "      <th>Positive</th>\n",
       "      <td>15895</td>\n",
       "    </tr>\n",
       "    <tr>\n",
       "      <th>Neutral</th>\n",
       "      <td>11347</td>\n",
       "    </tr>\n",
       "    <tr>\n",
       "      <th>Negative</th>\n",
       "      <td>4720</td>\n",
       "    </tr>\n",
       "  </tbody>\n",
       "</table>\n",
       "</div>"
      ],
      "text/plain": [
       "              0\n",
       "Positive  15895\n",
       "Neutral   11347\n",
       "Negative   4720"
      ]
     },
     "execution_count": 16,
     "metadata": {},
     "output_type": "execute_result"
    }
   ],
   "source": [
    "train_count"
   ]
  },
  {
   "cell_type": "code",
   "execution_count": 17,
   "metadata": {},
   "outputs": [
    {
     "data": {
      "image/png": "[encoded data removed]",
      "text/plain": [
       "<Figure size 1080x576 with 2 Axes>"
      ]
     },
     "metadata": {
      "needs_background": "light"
     },
     "output_type": "display_data"
    }
   ],
   "source": [
    "#plot sentiment analysis summary of train and test dataset\n",
    "\n",
    "def plot_curves_sent():\n",
    "    fig, axes = plt.subplots(figsize=(15,8),nrows=1, ncols=2)\n",
    "    # plot train\n",
    "    axes[0].set_title('Train data sentiment distribution')\n",
    "#     train_count.plot(kind='bar')\n",
    "    axes[0].bar(train_count.index,train_count[0])\n",
    "    axes[0].set_ylabel('Train Tweets Count')\n",
    "    #plot test\n",
    "    axes[1].set_title('Test data sentiment distribution')\n",
    "    axes[1].bar(test_count.index,test_count[0])\n",
    "    axes[1].set_ylabel('Test Tweets Count')\n",
    "    return\n",
    "\n",
    "plot_curves_sent()"
   ]
  },
  {
   "cell_type": "code",
   "execution_count": 18,
   "metadata": {
    "scrolled": true
   },
   "outputs": [],
   "source": [
    "# train_count.plot(kind='bar')\n",
    "# plt.ylabel('Train Tweets Count')\n",
    "# plt.legend().remove()\n",
    "# plt.title('Train data sentiment distribution')\n",
    "# plt.show()"
   ]
  },
  {
   "cell_type": "code",
   "execution_count": 19,
   "metadata": {
    "scrolled": true
   },
   "outputs": [
    {
     "name": "stdout",
     "output_type": "stream",
     "text": [
      "first five positive tweets from train\n",
      "1\n",
      "@user @user thanks for #lyft credit i can't use cause they don't offer wheelchair vans in pdx.    #disapointed #getthanked\n",
      "******************************************************\n",
      "2\n",
      "#model   i love u take with u all the time in ur📱!!! 😙😎👄👅💦💦💦  \n",
      "******************************************************\n",
      "3\n",
      "[2/2] huge fan fare and big talking before they leave. chaos and pay disputes when they get there. #allshowandnogo  \n",
      "******************************************************\n",
      "4\n",
      "we won!!! love the land!!! #allin #cavs #champions #cleveland #clevelandcavaliers  … \n",
      "******************************************************\n",
      "5\n",
      " @user @user welcome here !  i'm   it's so #gr8 ! \n",
      "******************************************************\n",
      "first five positive tweets from test\n",
      "1\n",
      " @user #white #supremacists want everyone to see the new ‘  #birds’ #movie — and here’s why  \n",
      "******************************************************\n",
      "2\n",
      "safe ways to heal your #acne!!    #altwaystoheal #healthy   #healing!! \n",
      "******************************************************\n",
      "3\n",
      "is the hp and the cursed child book up for reservations already? if yes, where? if no, when? 😍😍😍   #harrypotter #pottermore #favorite\n",
      "******************************************************\n",
      "4\n",
      "  3rd #bihday to my amazing, hilarious #nephew eli ahmir! uncle dave loves you and misses… \n",
      "******************************************************\n",
      "5\n",
      "choose to be   :) #momtips \n",
      "******************************************************\n"
     ]
    }
   ],
   "source": [
    "# printing first five positive tweets from train\n",
    "i=1\n",
    "print('first five positive tweets from train')\n",
    "for review in positive_train[:5]:\n",
    "        print(i)\n",
    "        print(review['tweet'])\n",
    "        print('******************************************************')\n",
    "        i+=1\n",
    "# printing first five positive tweets from test\n",
    "i=1\n",
    "print('first five positive tweets from test')\n",
    "for review in positive_test[:5]:\n",
    "        print(i)\n",
    "        print(review['tweet'])\n",
    "        print('******************************************************')\n",
    "        i+=1"
   ]
  },
  {
   "cell_type": "code",
   "execution_count": 20,
   "metadata": {
    "scrolled": false
   },
   "outputs": [
    {
     "name": "stdout",
     "output_type": "stream",
     "text": [
      "first five negative tweets from train\n",
      "1\n",
      " @user when a father is dysfunctional and is so selfish he drags his kids into his dysfunction.   #run\n",
      "******************************************************\n",
      "2\n",
      "the next school year is the year for exams.😯 can't think about that 😭 #school #exams   #hate #imagine #actorslife #revolutionschool #girl\n",
      "******************************************************\n",
      "3\n",
      " ↝ #ireland consumer price index (mom) climbed from previous 0.2% to 0.5% in may   #blog #silver #gold #forex\n",
      "******************************************************\n",
      "4\n",
      "we are so selfish. #orlando #standwithorlando #pulseshooting #orlandoshooting #biggerproblems #selfish #heabreaking   #values #love #\n",
      "******************************************************\n",
      "5\n",
      "sad little dude..   #badday #coneofshame #cats #pissed #funny #laughs \n",
      "******************************************************\n",
      "first five negative tweets from test\n",
      "1\n",
      " @user when a father is dysfunctional and is so selfish he drags his kids into his dysfunction.   #run\n",
      "******************************************************\n",
      "2\n",
      "the next school year is the year for exams.😯 can't think about that 😭 #school #exams   #hate #imagine #actorslife #revolutionschool #girl\n",
      "******************************************************\n",
      "3\n",
      " ↝ #ireland consumer price index (mom) climbed from previous 0.2% to 0.5% in may   #blog #silver #gold #forex\n",
      "******************************************************\n",
      "4\n",
      "we are so selfish. #orlando #standwithorlando #pulseshooting #orlandoshooting #biggerproblems #selfish #heabreaking   #values #love #\n",
      "******************************************************\n",
      "5\n",
      "sad little dude..   #badday #coneofshame #cats #pissed #funny #laughs \n",
      "******************************************************\n"
     ]
    }
   ],
   "source": [
    "# printing first five negative tweets from train\n",
    "i=1\n",
    "print('first five negative tweets from train')\n",
    "for review in negative_train[:5]:\n",
    "        print(i)\n",
    "        print(review['tweet'])\n",
    "        print('******************************************************')\n",
    "        i+=1\n",
    "        \n",
    "# printing first five negative tweets from train\n",
    "i=1\n",
    "print('first five negative tweets from test')\n",
    "for review in negative_test[:5]:\n",
    "        print(i)\n",
    "        print(review['tweet'])\n",
    "        print('******************************************************')\n",
    "        i+=1"
   ]
  },
  {
   "cell_type": "code",
   "execution_count": null,
   "metadata": {},
   "outputs": [],
   "source": []
  },
  {
   "cell_type": "markdown",
   "metadata": {},
   "source": [
    "## Find most frequent used positive and negative words\n",
    "### Data processing"
   ]
  },
  {
   "cell_type": "code",
   "execution_count": 21,
   "metadata": {},
   "outputs": [
    {
     "data": {
      "text/plain": [
       "0    when a father is dysfunctional and is so selfi...\n",
       "1    thanks for lyft credit i can t use cause they ...\n",
       "2                                  bihday your majesty\n",
       "3        model i love u take with u all the time in ur\n",
       "4                    factsguide society now motivation\n",
       "5    huge fan fare and big talking before they leav...\n",
       "Name: tweet, dtype: object"
      ]
     },
     "execution_count": 21,
     "metadata": {},
     "output_type": "execute_result"
    }
   ],
   "source": [
    "#Function to remove Punctuation\n",
    "\n",
    "def clean_text(text):\n",
    "    text = text.lower()\n",
    "    text = re.sub(r\"@\\w+\", \"\", text) #remove mention\n",
    "#     text_nopunct = \"\".join([char for char in text if char in (string.punctuation+'0123456789')])# It will discard all punctuations\n",
    "    text = \"\".join([char if char in (string.ascii_lowercase+string.ascii_uppercase) else ' ' for char in text])# It will discard all punctuations\n",
    "    text = ' '.join(text.split())\n",
    "    return text\n",
    "\n",
    "X_train= X_train.apply(lambda x: clean_text(x))\n",
    "X_test= X_test.apply(lambda x: clean_text(x))\n",
    "X_train.loc[:5]"
   ]
  },
  {
   "cell_type": "code",
   "execution_count": 22,
   "metadata": {},
   "outputs": [
    {
     "data": {
      "text/plain": [
       "0    father dysfunctional selfish drags kids dysfun...\n",
       "1    thanks lyft credit use cause offer wheelchair ...\n",
       "2                                       bihday majesty\n",
       "3                          model love u take u time ur\n",
       "4                        factsguide society motivation\n",
       "5    huge fan fare big talking leave chaos pay disp...\n",
       "Name: tweet, dtype: object"
      ]
     },
     "execution_count": 22,
     "metadata": {},
     "output_type": "execute_result"
    }
   ],
   "source": [
    "# # removing stopwords\n",
    "\n",
    "def remove_stopwords(text):\n",
    "    stopwords = nltk.corpus.stopwords.words('english')\n",
    "    text = \" \".join([word.lower() for word in text.split() if word.lower() not in stopwords])\n",
    "    return text\n",
    "\n",
    "X_train= X_train.apply(lambda x: remove_stopwords(x))\n",
    "X_test= X_test.apply(lambda x: remove_stopwords(x))\n",
    "X_train.loc[:5]"
   ]
  },
  {
   "cell_type": "code",
   "execution_count": 23,
   "metadata": {
    "scrolled": true
   },
   "outputs": [
    {
     "data": {
      "text/plain": [
       "0    father dysfunctional selfish drag kid dysfunct...\n",
       "1    thank lyft credit use cause offer wheelchair v...\n",
       "2                                       bihday majesty\n",
       "3                          model love u take u time ur\n",
       "4                        factsguide society motivation\n",
       "5    huge fan fare big talk leave chaos pay dispute...\n",
       "Name: tweet, dtype: object"
      ]
     },
     "execution_count": 23,
     "metadata": {},
     "output_type": "execute_result"
    }
   ],
   "source": [
    "# # Data Normalization\n",
    "stemmer = WordNetLemmatizer()\n",
    "def normalize_text(text):\n",
    "    text = \" \".join([stemmer.lemmatize(word,wordnet.VERB) for word in text.split()])\n",
    "#     text = \" \".join([stemmer.lemmatize(word, pos='a') for word in text.split()])\n",
    "    return text\n",
    "X_train= X_train.apply(lambda x: normalize_text(x))\n",
    "X_test= X_test.apply(lambda x: normalize_text(x))\n",
    "X_train.loc[:5]"
   ]
  },
  {
   "cell_type": "code",
   "execution_count": 24,
   "metadata": {},
   "outputs": [],
   "source": [
    "# tokens_vect_train = CountVectorizer(max_features=5000)\n",
    "# tokens_vect_test = CountVectorizer(max_features=5000)\n",
    "# tokens_vect_train = CountVectorizer(dtype='float32')\n",
    "# tokens_vect_test = CountVectorizer(dtype='float32')\n",
    "tokens_vect_train = CountVectorizer()\n",
    "tokens_vect_test = CountVectorizer()"
   ]
  },
  {
   "cell_type": "code",
   "execution_count": 25,
   "metadata": {},
   "outputs": [],
   "source": [
    "token_dtm_train = tokens_vect_train.fit_transform(X_train)\n",
    "token_dtm_test = tokens_vect_test.fit_transform(X_test)"
   ]
  },
  {
   "cell_type": "code",
   "execution_count": 26,
   "metadata": {},
   "outputs": [
    {
     "data": {
      "text/plain": [
       "['aa',\n",
       " 'aaa',\n",
       " 'aaaaa',\n",
       " 'aaaaaand',\n",
       " 'aaaaah',\n",
       " 'aaaaand',\n",
       " 'aaahh',\n",
       " 'aaahhhh',\n",
       " 'aaahhhhh',\n",
       " 'aaand']"
      ]
     },
     "execution_count": 26,
     "metadata": {},
     "output_type": "execute_result"
    }
   ],
   "source": [
    "tokens_vect_train.get_feature_names()[:10]"
   ]
  },
  {
   "cell_type": "code",
   "execution_count": 27,
   "metadata": {},
   "outputs": [
    {
     "data": {
      "text/plain": [
       "['aa',\n",
       " 'aaa',\n",
       " 'aaaahhh',\n",
       " 'aaaahhhh',\n",
       " 'aaaannndd',\n",
       " 'aaahhhh',\n",
       " 'aadmi',\n",
       " 'aah',\n",
       " 'aaj',\n",
       " 'aameen']"
      ]
     },
     "execution_count": 27,
     "metadata": {},
     "output_type": "execute_result"
    }
   ],
   "source": [
    "tokens_vect_test.get_feature_names()[:10]"
   ]
  },
  {
   "cell_type": "code",
   "execution_count": 28,
   "metadata": {
    "scrolled": false
   },
   "outputs": [
    {
     "data": {
      "text/plain": [
       "array([[0, 0, 0, ..., 0, 0, 0],\n",
       "       [0, 0, 0, ..., 0, 0, 0],\n",
       "       [0, 0, 0, ..., 0, 0, 0],\n",
       "       ...,\n",
       "       [0, 0, 0, ..., 0, 0, 0],\n",
       "       [0, 0, 0, ..., 0, 0, 0],\n",
       "       [0, 0, 0, ..., 0, 0, 0]], dtype=int64)"
      ]
     },
     "execution_count": 28,
     "metadata": {},
     "output_type": "execute_result"
    }
   ],
   "source": [
    "token_dtm_train.toarray()\n",
    "token_dtm_test.toarray()"
   ]
  },
  {
   "cell_type": "code",
   "execution_count": 29,
   "metadata": {},
   "outputs": [
    {
     "data": {
      "text/plain": [
       "((31962, 34181), (17197, 23074))"
      ]
     },
     "execution_count": 29,
     "metadata": {},
     "output_type": "execute_result"
    }
   ],
   "source": [
    "token_dtm_train.toarray().shape, token_dtm_test.toarray().shape"
   ]
  },
  {
   "cell_type": "code",
   "execution_count": 30,
   "metadata": {},
   "outputs": [],
   "source": [
    "# token_dtm_test.toarray().shape"
   ]
  },
  {
   "cell_type": "code",
   "execution_count": 31,
   "metadata": {
    "scrolled": true
   },
   "outputs": [
    {
     "data": {
      "text/plain": [
       "34181"
      ]
     },
     "execution_count": 31,
     "metadata": {},
     "output_type": "execute_result"
    }
   ],
   "source": [
    "len(tokens_vect_train.get_feature_names())"
   ]
  },
  {
   "cell_type": "code",
   "execution_count": 32,
   "metadata": {
    "scrolled": true
   },
   "outputs": [
    {
     "data": {
      "text/html": [
       "<div>\n",
       "<style scoped>\n",
       "    .dataframe tbody tr th:only-of-type {\n",
       "        vertical-align: middle;\n",
       "    }\n",
       "\n",
       "    .dataframe tbody tr th {\n",
       "        vertical-align: top;\n",
       "    }\n",
       "\n",
       "    .dataframe thead th {\n",
       "        text-align: right;\n",
       "    }\n",
       "</style>\n",
       "<table border=\"1\" class=\"dataframe\">\n",
       "  <thead>\n",
       "    <tr style=\"text-align: right;\">\n",
       "      <th></th>\n",
       "      <th>aa</th>\n",
       "      <th>aaa</th>\n",
       "      <th>aaaaa</th>\n",
       "      <th>aaaaaand</th>\n",
       "      <th>aaaaah</th>\n",
       "      <th>aaaaand</th>\n",
       "      <th>aaahh</th>\n",
       "      <th>aaahhhh</th>\n",
       "      <th>aaahhhhh</th>\n",
       "      <th>aaand</th>\n",
       "      <th>...</th>\n",
       "      <th>zulu</th>\n",
       "      <th>zuma</th>\n",
       "      <th>zumba</th>\n",
       "      <th>zurich</th>\n",
       "      <th>zx</th>\n",
       "      <th>zydeco</th>\n",
       "      <th>zz</th>\n",
       "      <th>zzz</th>\n",
       "      <th>zzzzzz</th>\n",
       "      <th>zzzzzzzz</th>\n",
       "    </tr>\n",
       "  </thead>\n",
       "  <tbody>\n",
       "    <tr>\n",
       "      <th>0</th>\n",
       "      <td>0</td>\n",
       "      <td>0</td>\n",
       "      <td>0</td>\n",
       "      <td>0</td>\n",
       "      <td>0</td>\n",
       "      <td>0</td>\n",
       "      <td>0</td>\n",
       "      <td>0</td>\n",
       "      <td>0</td>\n",
       "      <td>0</td>\n",
       "      <td>...</td>\n",
       "      <td>0</td>\n",
       "      <td>0</td>\n",
       "      <td>0</td>\n",
       "      <td>0</td>\n",
       "      <td>0</td>\n",
       "      <td>0</td>\n",
       "      <td>0</td>\n",
       "      <td>0</td>\n",
       "      <td>0</td>\n",
       "      <td>0</td>\n",
       "    </tr>\n",
       "    <tr>\n",
       "      <th>1</th>\n",
       "      <td>0</td>\n",
       "      <td>0</td>\n",
       "      <td>0</td>\n",
       "      <td>0</td>\n",
       "      <td>0</td>\n",
       "      <td>0</td>\n",
       "      <td>0</td>\n",
       "      <td>0</td>\n",
       "      <td>0</td>\n",
       "      <td>0</td>\n",
       "      <td>...</td>\n",
       "      <td>0</td>\n",
       "      <td>0</td>\n",
       "      <td>0</td>\n",
       "      <td>0</td>\n",
       "      <td>0</td>\n",
       "      <td>0</td>\n",
       "      <td>0</td>\n",
       "      <td>0</td>\n",
       "      <td>0</td>\n",
       "      <td>0</td>\n",
       "    </tr>\n",
       "    <tr>\n",
       "      <th>2</th>\n",
       "      <td>0</td>\n",
       "      <td>0</td>\n",
       "      <td>0</td>\n",
       "      <td>0</td>\n",
       "      <td>0</td>\n",
       "      <td>0</td>\n",
       "      <td>0</td>\n",
       "      <td>0</td>\n",
       "      <td>0</td>\n",
       "      <td>0</td>\n",
       "      <td>...</td>\n",
       "      <td>0</td>\n",
       "      <td>0</td>\n",
       "      <td>0</td>\n",
       "      <td>0</td>\n",
       "      <td>0</td>\n",
       "      <td>0</td>\n",
       "      <td>0</td>\n",
       "      <td>0</td>\n",
       "      <td>0</td>\n",
       "      <td>0</td>\n",
       "    </tr>\n",
       "    <tr>\n",
       "      <th>3</th>\n",
       "      <td>0</td>\n",
       "      <td>0</td>\n",
       "      <td>0</td>\n",
       "      <td>0</td>\n",
       "      <td>0</td>\n",
       "      <td>0</td>\n",
       "      <td>0</td>\n",
       "      <td>0</td>\n",
       "      <td>0</td>\n",
       "      <td>0</td>\n",
       "      <td>...</td>\n",
       "      <td>0</td>\n",
       "      <td>0</td>\n",
       "      <td>0</td>\n",
       "      <td>0</td>\n",
       "      <td>0</td>\n",
       "      <td>0</td>\n",
       "      <td>0</td>\n",
       "      <td>0</td>\n",
       "      <td>0</td>\n",
       "      <td>0</td>\n",
       "    </tr>\n",
       "    <tr>\n",
       "      <th>4</th>\n",
       "      <td>0</td>\n",
       "      <td>0</td>\n",
       "      <td>0</td>\n",
       "      <td>0</td>\n",
       "      <td>0</td>\n",
       "      <td>0</td>\n",
       "      <td>0</td>\n",
       "      <td>0</td>\n",
       "      <td>0</td>\n",
       "      <td>0</td>\n",
       "      <td>...</td>\n",
       "      <td>0</td>\n",
       "      <td>0</td>\n",
       "      <td>0</td>\n",
       "      <td>0</td>\n",
       "      <td>0</td>\n",
       "      <td>0</td>\n",
       "      <td>0</td>\n",
       "      <td>0</td>\n",
       "      <td>0</td>\n",
       "      <td>0</td>\n",
       "    </tr>\n",
       "    <tr>\n",
       "      <th>...</th>\n",
       "      <td>...</td>\n",
       "      <td>...</td>\n",
       "      <td>...</td>\n",
       "      <td>...</td>\n",
       "      <td>...</td>\n",
       "      <td>...</td>\n",
       "      <td>...</td>\n",
       "      <td>...</td>\n",
       "      <td>...</td>\n",
       "      <td>...</td>\n",
       "      <td>...</td>\n",
       "      <td>...</td>\n",
       "      <td>...</td>\n",
       "      <td>...</td>\n",
       "      <td>...</td>\n",
       "      <td>...</td>\n",
       "      <td>...</td>\n",
       "      <td>...</td>\n",
       "      <td>...</td>\n",
       "      <td>...</td>\n",
       "      <td>...</td>\n",
       "    </tr>\n",
       "    <tr>\n",
       "      <th>31957</th>\n",
       "      <td>0</td>\n",
       "      <td>0</td>\n",
       "      <td>0</td>\n",
       "      <td>0</td>\n",
       "      <td>0</td>\n",
       "      <td>0</td>\n",
       "      <td>0</td>\n",
       "      <td>0</td>\n",
       "      <td>0</td>\n",
       "      <td>0</td>\n",
       "      <td>...</td>\n",
       "      <td>0</td>\n",
       "      <td>0</td>\n",
       "      <td>0</td>\n",
       "      <td>0</td>\n",
       "      <td>0</td>\n",
       "      <td>0</td>\n",
       "      <td>0</td>\n",
       "      <td>0</td>\n",
       "      <td>0</td>\n",
       "      <td>0</td>\n",
       "    </tr>\n",
       "    <tr>\n",
       "      <th>31958</th>\n",
       "      <td>0</td>\n",
       "      <td>0</td>\n",
       "      <td>0</td>\n",
       "      <td>0</td>\n",
       "      <td>0</td>\n",
       "      <td>0</td>\n",
       "      <td>0</td>\n",
       "      <td>0</td>\n",
       "      <td>0</td>\n",
       "      <td>0</td>\n",
       "      <td>...</td>\n",
       "      <td>0</td>\n",
       "      <td>0</td>\n",
       "      <td>0</td>\n",
       "      <td>0</td>\n",
       "      <td>0</td>\n",
       "      <td>0</td>\n",
       "      <td>0</td>\n",
       "      <td>0</td>\n",
       "      <td>0</td>\n",
       "      <td>0</td>\n",
       "    </tr>\n",
       "    <tr>\n",
       "      <th>31959</th>\n",
       "      <td>0</td>\n",
       "      <td>0</td>\n",
       "      <td>0</td>\n",
       "      <td>0</td>\n",
       "      <td>0</td>\n",
       "      <td>0</td>\n",
       "      <td>0</td>\n",
       "      <td>0</td>\n",
       "      <td>0</td>\n",
       "      <td>0</td>\n",
       "      <td>...</td>\n",
       "      <td>0</td>\n",
       "      <td>0</td>\n",
       "      <td>0</td>\n",
       "      <td>0</td>\n",
       "      <td>0</td>\n",
       "      <td>0</td>\n",
       "      <td>0</td>\n",
       "      <td>0</td>\n",
       "      <td>0</td>\n",
       "      <td>0</td>\n",
       "    </tr>\n",
       "    <tr>\n",
       "      <th>31960</th>\n",
       "      <td>0</td>\n",
       "      <td>0</td>\n",
       "      <td>0</td>\n",
       "      <td>0</td>\n",
       "      <td>0</td>\n",
       "      <td>0</td>\n",
       "      <td>0</td>\n",
       "      <td>0</td>\n",
       "      <td>0</td>\n",
       "      <td>0</td>\n",
       "      <td>...</td>\n",
       "      <td>0</td>\n",
       "      <td>0</td>\n",
       "      <td>0</td>\n",
       "      <td>0</td>\n",
       "      <td>0</td>\n",
       "      <td>0</td>\n",
       "      <td>0</td>\n",
       "      <td>0</td>\n",
       "      <td>0</td>\n",
       "      <td>0</td>\n",
       "    </tr>\n",
       "    <tr>\n",
       "      <th>31961</th>\n",
       "      <td>0</td>\n",
       "      <td>0</td>\n",
       "      <td>0</td>\n",
       "      <td>0</td>\n",
       "      <td>0</td>\n",
       "      <td>0</td>\n",
       "      <td>0</td>\n",
       "      <td>0</td>\n",
       "      <td>0</td>\n",
       "      <td>0</td>\n",
       "      <td>...</td>\n",
       "      <td>0</td>\n",
       "      <td>0</td>\n",
       "      <td>0</td>\n",
       "      <td>0</td>\n",
       "      <td>0</td>\n",
       "      <td>0</td>\n",
       "      <td>0</td>\n",
       "      <td>0</td>\n",
       "      <td>0</td>\n",
       "      <td>0</td>\n",
       "    </tr>\n",
       "  </tbody>\n",
       "</table>\n",
       "<p>31962 rows × 34181 columns</p>\n",
       "</div>"
      ],
      "text/plain": [
       "       aa  aaa  aaaaa  aaaaaand  aaaaah  aaaaand  aaahh  aaahhhh  aaahhhhh  \\\n",
       "0       0    0      0         0       0        0      0        0         0   \n",
       "1       0    0      0         0       0        0      0        0         0   \n",
       "2       0    0      0         0       0        0      0        0         0   \n",
       "3       0    0      0         0       0        0      0        0         0   \n",
       "4       0    0      0         0       0        0      0        0         0   \n",
       "...    ..  ...    ...       ...     ...      ...    ...      ...       ...   \n",
       "31957   0    0      0         0       0        0      0        0         0   \n",
       "31958   0    0      0         0       0        0      0        0         0   \n",
       "31959   0    0      0         0       0        0      0        0         0   \n",
       "31960   0    0      0         0       0        0      0        0         0   \n",
       "31961   0    0      0         0       0        0      0        0         0   \n",
       "\n",
       "       aaand  ...  zulu  zuma  zumba  zurich  zx  zydeco  zz  zzz  zzzzzz  \\\n",
       "0          0  ...     0     0      0       0   0       0   0    0       0   \n",
       "1          0  ...     0     0      0       0   0       0   0    0       0   \n",
       "2          0  ...     0     0      0       0   0       0   0    0       0   \n",
       "3          0  ...     0     0      0       0   0       0   0    0       0   \n",
       "4          0  ...     0     0      0       0   0       0   0    0       0   \n",
       "...      ...  ...   ...   ...    ...     ...  ..     ...  ..  ...     ...   \n",
       "31957      0  ...     0     0      0       0   0       0   0    0       0   \n",
       "31958      0  ...     0     0      0       0   0       0   0    0       0   \n",
       "31959      0  ...     0     0      0       0   0       0   0    0       0   \n",
       "31960      0  ...     0     0      0       0   0       0   0    0       0   \n",
       "31961      0  ...     0     0      0       0   0       0   0    0       0   \n",
       "\n",
       "       zzzzzzzz  \n",
       "0             0  \n",
       "1             0  \n",
       "2             0  \n",
       "3             0  \n",
       "4             0  \n",
       "...         ...  \n",
       "31957         0  \n",
       "31958         0  \n",
       "31959         0  \n",
       "31960         0  \n",
       "31961         0  \n",
       "\n",
       "[31962 rows x 34181 columns]"
      ]
     },
     "execution_count": 32,
     "metadata": {},
     "output_type": "execute_result"
    }
   ],
   "source": [
    "pd.DataFrame(token_dtm_train.toarray(),columns = tokens_vect_train.get_feature_names())"
   ]
  },
  {
   "cell_type": "code",
   "execution_count": 33,
   "metadata": {},
   "outputs": [
    {
     "data": {
      "text/html": [
       "<div>\n",
       "<style scoped>\n",
       "    .dataframe tbody tr th:only-of-type {\n",
       "        vertical-align: middle;\n",
       "    }\n",
       "\n",
       "    .dataframe tbody tr th {\n",
       "        vertical-align: top;\n",
       "    }\n",
       "\n",
       "    .dataframe thead th {\n",
       "        text-align: right;\n",
       "    }\n",
       "</style>\n",
       "<table border=\"1\" class=\"dataframe\">\n",
       "  <thead>\n",
       "    <tr style=\"text-align: right;\">\n",
       "      <th></th>\n",
       "      <th>aa</th>\n",
       "      <th>aaa</th>\n",
       "      <th>aaaahhh</th>\n",
       "      <th>aaaahhhh</th>\n",
       "      <th>aaaannndd</th>\n",
       "      <th>aaahhhh</th>\n",
       "      <th>aadmi</th>\n",
       "      <th>aah</th>\n",
       "      <th>aaj</th>\n",
       "      <th>aameen</th>\n",
       "      <th>...</th>\n",
       "      <th>zsanet</th>\n",
       "      <th>zsassociates</th>\n",
       "      <th>zshq</th>\n",
       "      <th>zueiraneverends</th>\n",
       "      <th>zuid</th>\n",
       "      <th>zukilloyzukilla</th>\n",
       "      <th>zuks</th>\n",
       "      <th>zumba</th>\n",
       "      <th>zurenborg</th>\n",
       "      <th>zurvita</th>\n",
       "    </tr>\n",
       "  </thead>\n",
       "  <tbody>\n",
       "    <tr>\n",
       "      <th>0</th>\n",
       "      <td>0</td>\n",
       "      <td>0</td>\n",
       "      <td>0</td>\n",
       "      <td>0</td>\n",
       "      <td>0</td>\n",
       "      <td>0</td>\n",
       "      <td>0</td>\n",
       "      <td>0</td>\n",
       "      <td>0</td>\n",
       "      <td>0</td>\n",
       "      <td>...</td>\n",
       "      <td>0</td>\n",
       "      <td>0</td>\n",
       "      <td>0</td>\n",
       "      <td>0</td>\n",
       "      <td>0</td>\n",
       "      <td>0</td>\n",
       "      <td>0</td>\n",
       "      <td>0</td>\n",
       "      <td>0</td>\n",
       "      <td>0</td>\n",
       "    </tr>\n",
       "    <tr>\n",
       "      <th>1</th>\n",
       "      <td>0</td>\n",
       "      <td>0</td>\n",
       "      <td>0</td>\n",
       "      <td>0</td>\n",
       "      <td>0</td>\n",
       "      <td>0</td>\n",
       "      <td>0</td>\n",
       "      <td>0</td>\n",
       "      <td>0</td>\n",
       "      <td>0</td>\n",
       "      <td>...</td>\n",
       "      <td>0</td>\n",
       "      <td>0</td>\n",
       "      <td>0</td>\n",
       "      <td>0</td>\n",
       "      <td>0</td>\n",
       "      <td>0</td>\n",
       "      <td>0</td>\n",
       "      <td>0</td>\n",
       "      <td>0</td>\n",
       "      <td>0</td>\n",
       "    </tr>\n",
       "    <tr>\n",
       "      <th>2</th>\n",
       "      <td>0</td>\n",
       "      <td>0</td>\n",
       "      <td>0</td>\n",
       "      <td>0</td>\n",
       "      <td>0</td>\n",
       "      <td>0</td>\n",
       "      <td>0</td>\n",
       "      <td>0</td>\n",
       "      <td>0</td>\n",
       "      <td>0</td>\n",
       "      <td>...</td>\n",
       "      <td>0</td>\n",
       "      <td>0</td>\n",
       "      <td>0</td>\n",
       "      <td>0</td>\n",
       "      <td>0</td>\n",
       "      <td>0</td>\n",
       "      <td>0</td>\n",
       "      <td>0</td>\n",
       "      <td>0</td>\n",
       "      <td>0</td>\n",
       "    </tr>\n",
       "    <tr>\n",
       "      <th>3</th>\n",
       "      <td>0</td>\n",
       "      <td>0</td>\n",
       "      <td>0</td>\n",
       "      <td>0</td>\n",
       "      <td>0</td>\n",
       "      <td>0</td>\n",
       "      <td>0</td>\n",
       "      <td>0</td>\n",
       "      <td>0</td>\n",
       "      <td>0</td>\n",
       "      <td>...</td>\n",
       "      <td>0</td>\n",
       "      <td>0</td>\n",
       "      <td>0</td>\n",
       "      <td>0</td>\n",
       "      <td>0</td>\n",
       "      <td>0</td>\n",
       "      <td>0</td>\n",
       "      <td>0</td>\n",
       "      <td>0</td>\n",
       "      <td>0</td>\n",
       "    </tr>\n",
       "    <tr>\n",
       "      <th>4</th>\n",
       "      <td>0</td>\n",
       "      <td>0</td>\n",
       "      <td>0</td>\n",
       "      <td>0</td>\n",
       "      <td>0</td>\n",
       "      <td>0</td>\n",
       "      <td>0</td>\n",
       "      <td>0</td>\n",
       "      <td>0</td>\n",
       "      <td>0</td>\n",
       "      <td>...</td>\n",
       "      <td>0</td>\n",
       "      <td>0</td>\n",
       "      <td>0</td>\n",
       "      <td>0</td>\n",
       "      <td>0</td>\n",
       "      <td>0</td>\n",
       "      <td>0</td>\n",
       "      <td>0</td>\n",
       "      <td>0</td>\n",
       "      <td>0</td>\n",
       "    </tr>\n",
       "    <tr>\n",
       "      <th>...</th>\n",
       "      <td>...</td>\n",
       "      <td>...</td>\n",
       "      <td>...</td>\n",
       "      <td>...</td>\n",
       "      <td>...</td>\n",
       "      <td>...</td>\n",
       "      <td>...</td>\n",
       "      <td>...</td>\n",
       "      <td>...</td>\n",
       "      <td>...</td>\n",
       "      <td>...</td>\n",
       "      <td>...</td>\n",
       "      <td>...</td>\n",
       "      <td>...</td>\n",
       "      <td>...</td>\n",
       "      <td>...</td>\n",
       "      <td>...</td>\n",
       "      <td>...</td>\n",
       "      <td>...</td>\n",
       "      <td>...</td>\n",
       "      <td>...</td>\n",
       "    </tr>\n",
       "    <tr>\n",
       "      <th>17192</th>\n",
       "      <td>0</td>\n",
       "      <td>0</td>\n",
       "      <td>0</td>\n",
       "      <td>0</td>\n",
       "      <td>0</td>\n",
       "      <td>0</td>\n",
       "      <td>0</td>\n",
       "      <td>0</td>\n",
       "      <td>0</td>\n",
       "      <td>0</td>\n",
       "      <td>...</td>\n",
       "      <td>0</td>\n",
       "      <td>0</td>\n",
       "      <td>0</td>\n",
       "      <td>0</td>\n",
       "      <td>0</td>\n",
       "      <td>0</td>\n",
       "      <td>0</td>\n",
       "      <td>0</td>\n",
       "      <td>0</td>\n",
       "      <td>0</td>\n",
       "    </tr>\n",
       "    <tr>\n",
       "      <th>17193</th>\n",
       "      <td>0</td>\n",
       "      <td>0</td>\n",
       "      <td>0</td>\n",
       "      <td>0</td>\n",
       "      <td>0</td>\n",
       "      <td>0</td>\n",
       "      <td>0</td>\n",
       "      <td>0</td>\n",
       "      <td>0</td>\n",
       "      <td>0</td>\n",
       "      <td>...</td>\n",
       "      <td>0</td>\n",
       "      <td>0</td>\n",
       "      <td>0</td>\n",
       "      <td>0</td>\n",
       "      <td>0</td>\n",
       "      <td>0</td>\n",
       "      <td>0</td>\n",
       "      <td>0</td>\n",
       "      <td>0</td>\n",
       "      <td>0</td>\n",
       "    </tr>\n",
       "    <tr>\n",
       "      <th>17194</th>\n",
       "      <td>0</td>\n",
       "      <td>0</td>\n",
       "      <td>0</td>\n",
       "      <td>0</td>\n",
       "      <td>0</td>\n",
       "      <td>0</td>\n",
       "      <td>0</td>\n",
       "      <td>0</td>\n",
       "      <td>0</td>\n",
       "      <td>0</td>\n",
       "      <td>...</td>\n",
       "      <td>0</td>\n",
       "      <td>0</td>\n",
       "      <td>0</td>\n",
       "      <td>0</td>\n",
       "      <td>0</td>\n",
       "      <td>0</td>\n",
       "      <td>0</td>\n",
       "      <td>0</td>\n",
       "      <td>0</td>\n",
       "      <td>0</td>\n",
       "    </tr>\n",
       "    <tr>\n",
       "      <th>17195</th>\n",
       "      <td>0</td>\n",
       "      <td>0</td>\n",
       "      <td>0</td>\n",
       "      <td>0</td>\n",
       "      <td>0</td>\n",
       "      <td>0</td>\n",
       "      <td>0</td>\n",
       "      <td>0</td>\n",
       "      <td>0</td>\n",
       "      <td>0</td>\n",
       "      <td>...</td>\n",
       "      <td>0</td>\n",
       "      <td>0</td>\n",
       "      <td>0</td>\n",
       "      <td>0</td>\n",
       "      <td>0</td>\n",
       "      <td>0</td>\n",
       "      <td>0</td>\n",
       "      <td>0</td>\n",
       "      <td>0</td>\n",
       "      <td>0</td>\n",
       "    </tr>\n",
       "    <tr>\n",
       "      <th>17196</th>\n",
       "      <td>0</td>\n",
       "      <td>0</td>\n",
       "      <td>0</td>\n",
       "      <td>0</td>\n",
       "      <td>0</td>\n",
       "      <td>0</td>\n",
       "      <td>0</td>\n",
       "      <td>0</td>\n",
       "      <td>0</td>\n",
       "      <td>0</td>\n",
       "      <td>...</td>\n",
       "      <td>0</td>\n",
       "      <td>0</td>\n",
       "      <td>0</td>\n",
       "      <td>0</td>\n",
       "      <td>0</td>\n",
       "      <td>0</td>\n",
       "      <td>0</td>\n",
       "      <td>0</td>\n",
       "      <td>0</td>\n",
       "      <td>0</td>\n",
       "    </tr>\n",
       "  </tbody>\n",
       "</table>\n",
       "<p>17197 rows × 23074 columns</p>\n",
       "</div>"
      ],
      "text/plain": [
       "       aa  aaa  aaaahhh  aaaahhhh  aaaannndd  aaahhhh  aadmi  aah  aaj  \\\n",
       "0       0    0        0         0          0        0      0    0    0   \n",
       "1       0    0        0         0          0        0      0    0    0   \n",
       "2       0    0        0         0          0        0      0    0    0   \n",
       "3       0    0        0         0          0        0      0    0    0   \n",
       "4       0    0        0         0          0        0      0    0    0   \n",
       "...    ..  ...      ...       ...        ...      ...    ...  ...  ...   \n",
       "17192   0    0        0         0          0        0      0    0    0   \n",
       "17193   0    0        0         0          0        0      0    0    0   \n",
       "17194   0    0        0         0          0        0      0    0    0   \n",
       "17195   0    0        0         0          0        0      0    0    0   \n",
       "17196   0    0        0         0          0        0      0    0    0   \n",
       "\n",
       "       aameen  ...  zsanet  zsassociates  zshq  zueiraneverends  zuid  \\\n",
       "0           0  ...       0             0     0                0     0   \n",
       "1           0  ...       0             0     0                0     0   \n",
       "2           0  ...       0             0     0                0     0   \n",
       "3           0  ...       0             0     0                0     0   \n",
       "4           0  ...       0             0     0                0     0   \n",
       "...       ...  ...     ...           ...   ...              ...   ...   \n",
       "17192       0  ...       0             0     0                0     0   \n",
       "17193       0  ...       0             0     0                0     0   \n",
       "17194       0  ...       0             0     0                0     0   \n",
       "17195       0  ...       0             0     0                0     0   \n",
       "17196       0  ...       0             0     0                0     0   \n",
       "\n",
       "       zukilloyzukilla  zuks  zumba  zurenborg  zurvita  \n",
       "0                    0     0      0          0        0  \n",
       "1                    0     0      0          0        0  \n",
       "2                    0     0      0          0        0  \n",
       "3                    0     0      0          0        0  \n",
       "4                    0     0      0          0        0  \n",
       "...                ...   ...    ...        ...      ...  \n",
       "17192                0     0      0          0        0  \n",
       "17193                0     0      0          0        0  \n",
       "17194                0     0      0          0        0  \n",
       "17195                0     0      0          0        0  \n",
       "17196                0     0      0          0        0  \n",
       "\n",
       "[17197 rows x 23074 columns]"
      ]
     },
     "execution_count": 33,
     "metadata": {},
     "output_type": "execute_result"
    }
   ],
   "source": [
    "pd.DataFrame(token_dtm_test.toarray(),columns = tokens_vect_test.get_feature_names())"
   ]
  },
  {
   "cell_type": "code",
   "execution_count": 34,
   "metadata": {
    "scrolled": false
   },
   "outputs": [],
   "source": [
    "# print(token_dtm)"
   ]
  },
  {
   "cell_type": "code",
   "execution_count": 35,
   "metadata": {},
   "outputs": [],
   "source": [
    "# creating a dataframe which shows the count of how many times a word is coming in the corpus\n",
    "count_dtm_train = pd.DataFrame(np.sum(token_dtm_train.toarray(),axis=0),tokens_vect_train.get_feature_names()).reset_index()\n",
    "count_dtm_train.columns =['Word','Count']\n",
    "\n",
    "count_dtm_test = pd.DataFrame(np.sum(token_dtm_test.toarray(),axis=0),tokens_vect_test.get_feature_names()).reset_index()\n",
    "count_dtm_test.columns =['Word','Count']"
   ]
  },
  {
   "cell_type": "code",
   "execution_count": 36,
   "metadata": {
    "scrolled": true
   },
   "outputs": [
    {
     "data": {
      "text/html": [
       "<div>\n",
       "<style scoped>\n",
       "    .dataframe tbody tr th:only-of-type {\n",
       "        vertical-align: middle;\n",
       "    }\n",
       "\n",
       "    .dataframe tbody tr th {\n",
       "        vertical-align: top;\n",
       "    }\n",
       "\n",
       "    .dataframe thead th {\n",
       "        text-align: right;\n",
       "    }\n",
       "</style>\n",
       "<table border=\"1\" class=\"dataframe\">\n",
       "  <thead>\n",
       "    <tr style=\"text-align: right;\">\n",
       "      <th></th>\n",
       "      <th>Word</th>\n",
       "      <th>Count</th>\n",
       "    </tr>\n",
       "  </thead>\n",
       "  <tbody>\n",
       "    <tr>\n",
       "      <th>0</th>\n",
       "      <td>aa</td>\n",
       "      <td>2</td>\n",
       "    </tr>\n",
       "    <tr>\n",
       "      <th>1</th>\n",
       "      <td>aaa</td>\n",
       "      <td>3</td>\n",
       "    </tr>\n",
       "    <tr>\n",
       "      <th>2</th>\n",
       "      <td>aaaaa</td>\n",
       "      <td>1</td>\n",
       "    </tr>\n",
       "    <tr>\n",
       "      <th>3</th>\n",
       "      <td>aaaaaand</td>\n",
       "      <td>1</td>\n",
       "    </tr>\n",
       "    <tr>\n",
       "      <th>4</th>\n",
       "      <td>aaaaah</td>\n",
       "      <td>1</td>\n",
       "    </tr>\n",
       "  </tbody>\n",
       "</table>\n",
       "</div>"
      ],
      "text/plain": [
       "       Word  Count\n",
       "0        aa      2\n",
       "1       aaa      3\n",
       "2     aaaaa      1\n",
       "3  aaaaaand      1\n",
       "4    aaaaah      1"
      ]
     },
     "execution_count": 36,
     "metadata": {},
     "output_type": "execute_result"
    }
   ],
   "source": [
    "count_dtm_train.head()"
   ]
  },
  {
   "cell_type": "code",
   "execution_count": 37,
   "metadata": {},
   "outputs": [
    {
     "data": {
      "text/html": [
       "<div>\n",
       "<style scoped>\n",
       "    .dataframe tbody tr th:only-of-type {\n",
       "        vertical-align: middle;\n",
       "    }\n",
       "\n",
       "    .dataframe tbody tr th {\n",
       "        vertical-align: top;\n",
       "    }\n",
       "\n",
       "    .dataframe thead th {\n",
       "        text-align: right;\n",
       "    }\n",
       "</style>\n",
       "<table border=\"1\" class=\"dataframe\">\n",
       "  <thead>\n",
       "    <tr style=\"text-align: right;\">\n",
       "      <th></th>\n",
       "      <th>Word</th>\n",
       "      <th>Count</th>\n",
       "    </tr>\n",
       "  </thead>\n",
       "  <tbody>\n",
       "    <tr>\n",
       "      <th>0</th>\n",
       "      <td>aa</td>\n",
       "      <td>1</td>\n",
       "    </tr>\n",
       "    <tr>\n",
       "      <th>1</th>\n",
       "      <td>aaa</td>\n",
       "      <td>1</td>\n",
       "    </tr>\n",
       "    <tr>\n",
       "      <th>2</th>\n",
       "      <td>aaaahhh</td>\n",
       "      <td>1</td>\n",
       "    </tr>\n",
       "    <tr>\n",
       "      <th>3</th>\n",
       "      <td>aaaahhhh</td>\n",
       "      <td>1</td>\n",
       "    </tr>\n",
       "    <tr>\n",
       "      <th>4</th>\n",
       "      <td>aaaannndd</td>\n",
       "      <td>1</td>\n",
       "    </tr>\n",
       "  </tbody>\n",
       "</table>\n",
       "</div>"
      ],
      "text/plain": [
       "        Word  Count\n",
       "0         aa      1\n",
       "1        aaa      1\n",
       "2    aaaahhh      1\n",
       "3   aaaahhhh      1\n",
       "4  aaaannndd      1"
      ]
     },
     "execution_count": 37,
     "metadata": {},
     "output_type": "execute_result"
    }
   ],
   "source": [
    "count_dtm_test.head()"
   ]
  },
  {
   "cell_type": "code",
   "execution_count": 38,
   "metadata": {},
   "outputs": [],
   "source": [
    "#adding sentiment column which shows sentiment polarity of each word\n",
    "sentiment_word_train = []\n",
    "for word in count_dtm_train['Word']:\n",
    "    sentiment_word_train.append(sentiment_review(word))\n",
    "count_dtm_train['Sentiment'] = sentiment_word_train\n",
    "\n",
    "sentiment_word_test = []\n",
    "for word in count_dtm_test['Word']:\n",
    "    sentiment_word_test.append(sentiment_review(word))\n",
    "count_dtm_test['Sentiment'] = sentiment_word_test"
   ]
  },
  {
   "cell_type": "code",
   "execution_count": null,
   "metadata": {},
   "outputs": [],
   "source": []
  },
  {
   "cell_type": "code",
   "execution_count": 39,
   "metadata": {},
   "outputs": [],
   "source": [
    "# separating positive words\n",
    "positive_words_train= count_dtm_train.loc[count_dtm_train['Sentiment']=='Positive',:].sort_values('Count',ascending=False)\n",
    "positive_words_test= count_dtm_test.loc[count_dtm_test['Sentiment']=='Positive',:].sort_values('Count',ascending=False)"
   ]
  },
  {
   "cell_type": "code",
   "execution_count": 40,
   "metadata": {
    "scrolled": true
   },
   "outputs": [
    {
     "data": {
      "text/html": [
       "<div>\n",
       "<style scoped>\n",
       "    .dataframe tbody tr th:only-of-type {\n",
       "        vertical-align: middle;\n",
       "    }\n",
       "\n",
       "    .dataframe tbody tr th {\n",
       "        vertical-align: top;\n",
       "    }\n",
       "\n",
       "    .dataframe thead th {\n",
       "        text-align: right;\n",
       "    }\n",
       "</style>\n",
       "<table border=\"1\" class=\"dataframe\">\n",
       "  <thead>\n",
       "    <tr style=\"text-align: right;\">\n",
       "      <th></th>\n",
       "      <th>Word</th>\n",
       "      <th>Count</th>\n",
       "      <th>Sentiment</th>\n",
       "    </tr>\n",
       "  </thead>\n",
       "  <tbody>\n",
       "    <tr>\n",
       "      <th>17711</th>\n",
       "      <td>love</td>\n",
       "      <td>3089</td>\n",
       "      <td>Positive</td>\n",
       "    </tr>\n",
       "    <tr>\n",
       "      <th>12932</th>\n",
       "      <td>happy</td>\n",
       "      <td>1707</td>\n",
       "      <td>Positive</td>\n",
       "    </tr>\n",
       "    <tr>\n",
       "      <th>20626</th>\n",
       "      <td>new</td>\n",
       "      <td>1003</td>\n",
       "      <td>Positive</td>\n",
       "    </tr>\n",
       "    <tr>\n",
       "      <th>23584</th>\n",
       "      <td>positive</td>\n",
       "      <td>937</td>\n",
       "      <td>Positive</td>\n",
       "    </tr>\n",
       "    <tr>\n",
       "      <th>27558</th>\n",
       "      <td>smile</td>\n",
       "      <td>925</td>\n",
       "      <td>Positive</td>\n",
       "    </tr>\n",
       "  </tbody>\n",
       "</table>\n",
       "</div>"
      ],
      "text/plain": [
       "           Word  Count Sentiment\n",
       "17711      love   3089  Positive\n",
       "12932     happy   1707  Positive\n",
       "20626       new   1003  Positive\n",
       "23584  positive    937  Positive\n",
       "27558     smile    925  Positive"
      ]
     },
     "execution_count": 40,
     "metadata": {},
     "output_type": "execute_result"
    }
   ],
   "source": [
    "positive_words_train.head()"
   ]
  },
  {
   "cell_type": "code",
   "execution_count": 41,
   "metadata": {},
   "outputs": [
    {
     "data": {
      "text/html": [
       "<div>\n",
       "<style scoped>\n",
       "    .dataframe tbody tr th:only-of-type {\n",
       "        vertical-align: middle;\n",
       "    }\n",
       "\n",
       "    .dataframe tbody tr th {\n",
       "        vertical-align: top;\n",
       "    }\n",
       "\n",
       "    .dataframe thead th {\n",
       "        text-align: right;\n",
       "    }\n",
       "</style>\n",
       "<table border=\"1\" class=\"dataframe\">\n",
       "  <thead>\n",
       "    <tr style=\"text-align: right;\">\n",
       "      <th></th>\n",
       "      <th>Word</th>\n",
       "      <th>Count</th>\n",
       "      <th>Sentiment</th>\n",
       "    </tr>\n",
       "  </thead>\n",
       "  <tbody>\n",
       "    <tr>\n",
       "      <th>12015</th>\n",
       "      <td>love</td>\n",
       "      <td>1679</td>\n",
       "      <td>Positive</td>\n",
       "    </tr>\n",
       "    <tr>\n",
       "      <th>8745</th>\n",
       "      <td>happy</td>\n",
       "      <td>948</td>\n",
       "      <td>Positive</td>\n",
       "    </tr>\n",
       "    <tr>\n",
       "      <th>13925</th>\n",
       "      <td>new</td>\n",
       "      <td>559</td>\n",
       "      <td>Positive</td>\n",
       "    </tr>\n",
       "    <tr>\n",
       "      <th>15910</th>\n",
       "      <td>positive</td>\n",
       "      <td>492</td>\n",
       "      <td>Positive</td>\n",
       "    </tr>\n",
       "    <tr>\n",
       "      <th>8172</th>\n",
       "      <td>good</td>\n",
       "      <td>472</td>\n",
       "      <td>Positive</td>\n",
       "    </tr>\n",
       "  </tbody>\n",
       "</table>\n",
       "</div>"
      ],
      "text/plain": [
       "           Word  Count Sentiment\n",
       "12015      love   1679  Positive\n",
       "8745      happy    948  Positive\n",
       "13925       new    559  Positive\n",
       "15910  positive    492  Positive\n",
       "8172       good    472  Positive"
      ]
     },
     "execution_count": 41,
     "metadata": {},
     "output_type": "execute_result"
    }
   ],
   "source": [
    "positive_words_test.head()"
   ]
  },
  {
   "cell_type": "code",
   "execution_count": 42,
   "metadata": {},
   "outputs": [
    {
     "data": {
      "image/png": "[encoded data removed]",
      "text/plain": [
       "<Figure size 1296x576 with 2 Axes>"
      ]
     },
     "metadata": {
      "needs_background": "light"
     },
     "output_type": "display_data"
    }
   ],
   "source": [
    "# plotting word cloud of 25 most frequently used positive words\n",
    "wordcloud_train = WordCloud(width = 800, height = 500).generate(' '.join(positive_words_train.iloc[0:25,0]))\n",
    "wordcloud_test = WordCloud(width = 800, height = 500).generate(' '.join(positive_words_test.iloc[0:25,0]))\n",
    "# plot the WordCloud image                        \n",
    "# plt.figure(figsize = (8, 8), facecolor = None) \n",
    "# plt.imshow(wordcloud) \n",
    "# plt.axis(\"off\") \n",
    "# plt.tight_layout(pad = 0) \n",
    "  \n",
    "# plt.show()\n",
    "\n",
    "\n",
    "def plot_curves_pos_cloud():\n",
    "    fig, axes = plt.subplots(figsize=(18,8),nrows=1, ncols=2)\n",
    "    # plot train\n",
    "    axes[0].imshow(wordcloud_train) \n",
    "    axes[0].set_title('Train data WordCloud')\n",
    "    axes[0].axis('off')\n",
    "    #plot test\n",
    "    axes[1].imshow(wordcloud_test) \n",
    "    axes[1].set_title('Test data WordCloud')\n",
    "    axes[1].axis('off')\n",
    "    return\n",
    "\n",
    "plot_curves_pos_cloud()"
   ]
  },
  {
   "cell_type": "code",
   "execution_count": 43,
   "metadata": {},
   "outputs": [],
   "source": [
    "# separating negative words\n",
    "negative_words_train= count_dtm_train.loc[count_dtm_train['Sentiment']=='Negative',:].sort_values('Count',ascending=False)\n",
    "negative_words_test= count_dtm_test.loc[count_dtm_test['Sentiment']=='Negative',:].sort_values('Count',ascending=False)"
   ]
  },
  {
   "cell_type": "code",
   "execution_count": 44,
   "metadata": {},
   "outputs": [
    {
     "data": {
      "text/html": [
       "<div>\n",
       "<style scoped>\n",
       "    .dataframe tbody tr th:only-of-type {\n",
       "        vertical-align: middle;\n",
       "    }\n",
       "\n",
       "    .dataframe tbody tr th {\n",
       "        vertical-align: top;\n",
       "    }\n",
       "\n",
       "    .dataframe thead th {\n",
       "        text-align: right;\n",
       "    }\n",
       "</style>\n",
       "<table border=\"1\" class=\"dataframe\">\n",
       "  <thead>\n",
       "    <tr style=\"text-align: right;\">\n",
       "      <th></th>\n",
       "      <th>Word</th>\n",
       "      <th>Count</th>\n",
       "      <th>Sentiment</th>\n",
       "    </tr>\n",
       "  </thead>\n",
       "  <tbody>\n",
       "    <tr>\n",
       "      <th>25964</th>\n",
       "      <td>sad</td>\n",
       "      <td>431</td>\n",
       "      <td>Negative</td>\n",
       "    </tr>\n",
       "    <tr>\n",
       "      <th>11397</th>\n",
       "      <td>game</td>\n",
       "      <td>331</td>\n",
       "      <td>Negative</td>\n",
       "    </tr>\n",
       "    <tr>\n",
       "      <th>17362</th>\n",
       "      <td>little</td>\n",
       "      <td>290</td>\n",
       "      <td>Negative</td>\n",
       "    </tr>\n",
       "    <tr>\n",
       "      <th>3246</th>\n",
       "      <td>black</td>\n",
       "      <td>287</td>\n",
       "      <td>Negative</td>\n",
       "    </tr>\n",
       "    <tr>\n",
       "      <th>13049</th>\n",
       "      <td>hate</td>\n",
       "      <td>243</td>\n",
       "      <td>Negative</td>\n",
       "    </tr>\n",
       "  </tbody>\n",
       "</table>\n",
       "</div>"
      ],
      "text/plain": [
       "         Word  Count Sentiment\n",
       "25964     sad    431  Negative\n",
       "11397    game    331  Negative\n",
       "17362  little    290  Negative\n",
       "3246    black    287  Negative\n",
       "13049    hate    243  Negative"
      ]
     },
     "execution_count": 44,
     "metadata": {},
     "output_type": "execute_result"
    }
   ],
   "source": [
    "negative_words_train.head()"
   ]
  },
  {
   "cell_type": "code",
   "execution_count": 45,
   "metadata": {},
   "outputs": [
    {
     "data": {
      "text/html": [
       "<div>\n",
       "<style scoped>\n",
       "    .dataframe tbody tr th:only-of-type {\n",
       "        vertical-align: middle;\n",
       "    }\n",
       "\n",
       "    .dataframe tbody tr th {\n",
       "        vertical-align: top;\n",
       "    }\n",
       "\n",
       "    .dataframe thead th {\n",
       "        text-align: right;\n",
       "    }\n",
       "</style>\n",
       "<table border=\"1\" class=\"dataframe\">\n",
       "  <thead>\n",
       "    <tr style=\"text-align: right;\">\n",
       "      <th></th>\n",
       "      <th>Word</th>\n",
       "      <th>Count</th>\n",
       "      <th>Sentiment</th>\n",
       "    </tr>\n",
       "  </thead>\n",
       "  <tbody>\n",
       "    <tr>\n",
       "      <th>17541</th>\n",
       "      <td>sad</td>\n",
       "      <td>229</td>\n",
       "      <td>Negative</td>\n",
       "    </tr>\n",
       "    <tr>\n",
       "      <th>7690</th>\n",
       "      <td>game</td>\n",
       "      <td>184</td>\n",
       "      <td>Negative</td>\n",
       "    </tr>\n",
       "    <tr>\n",
       "      <th>2175</th>\n",
       "      <td>black</td>\n",
       "      <td>141</td>\n",
       "      <td>Negative</td>\n",
       "    </tr>\n",
       "    <tr>\n",
       "      <th>8821</th>\n",
       "      <td>hate</td>\n",
       "      <td>141</td>\n",
       "      <td>Negative</td>\n",
       "    </tr>\n",
       "    <tr>\n",
       "      <th>11921</th>\n",
       "      <td>long</td>\n",
       "      <td>140</td>\n",
       "      <td>Negative</td>\n",
       "    </tr>\n",
       "  </tbody>\n",
       "</table>\n",
       "</div>"
      ],
      "text/plain": [
       "        Word  Count Sentiment\n",
       "17541    sad    229  Negative\n",
       "7690    game    184  Negative\n",
       "2175   black    141  Negative\n",
       "8821    hate    141  Negative\n",
       "11921   long    140  Negative"
      ]
     },
     "execution_count": 45,
     "metadata": {},
     "output_type": "execute_result"
    }
   ],
   "source": [
    "negative_words_test.head()"
   ]
  },
  {
   "cell_type": "code",
   "execution_count": 46,
   "metadata": {},
   "outputs": [
    {
     "data": {
      "image/png": "[encoded data removed]",
      "text/plain": [
       "<Figure size 1296x576 with 2 Axes>"
      ]
     },
     "metadata": {
      "needs_background": "light"
     },
     "output_type": "display_data"
    }
   ],
   "source": [
    "# plotting word cloud of 25 most frequently used negative words\n",
    "wordcloud_train_neg = WordCloud(width = 800, height = 500).generate(' '.join(negative_words_train.iloc[0:25,0]))\n",
    "wordcloud_test_neg = WordCloud(width = 800, height = 500).generate(' '.join(negative_words_test.iloc[0:25,0]))\n",
    "# plot the WordCloud image                        \n",
    "# plt.figure(figsize = (8, 8), facecolor = None) \n",
    "# plt.imshow(wordcloud) \n",
    "# plt.axis(\"off\") \n",
    "# plt.tight_layout(pad = 0) \n",
    "  \n",
    "# plt.show()\n",
    "def plot_curves_pos_cloud():\n",
    "    fig, axes = plt.subplots(figsize=(18,8),nrows=1, ncols=2)\n",
    "    # plot train\n",
    "    axes[0].imshow(wordcloud_train_neg) \n",
    "    axes[0].set_title('Train data negative WordCloud')\n",
    "    axes[0].axis('off')\n",
    "    #plot test\n",
    "    axes[1].imshow(wordcloud_test_neg) \n",
    "    axes[1].set_title('Test data negative WordCloud')\n",
    "    axes[1].axis('off')\n",
    "    return\n",
    "\n",
    "plot_curves_pos_cloud()\n"
   ]
  },
  {
   "cell_type": "code",
   "execution_count": 47,
   "metadata": {
    "scrolled": true
   },
   "outputs": [],
   "source": [
    "# train_positive = train_data[train_data['label']==1]\n",
    "# train_negative = train_data[train_data['label']==0]\n",
    "# print(\"total number: \",len(train_data))\n",
    "# print(\"positive number: \",len(train_positive))\n",
    "# print(\"negative number: \", len(train_negative))"
   ]
  },
  {
   "cell_type": "markdown",
   "metadata": {},
   "source": [
    "### Modelling\n",
    "\n",
    "#### Splitting the data into train and test"
   ]
  },
  {
   "cell_type": "code",
   "execution_count": 48,
   "metadata": {},
   "outputs": [
    {
     "data": {
      "text/plain": [
       "10372"
      ]
     },
     "execution_count": 48,
     "metadata": {},
     "output_type": "execute_result"
    }
   ],
   "source": [
    "train_X,test_X,train_Y,test_Y = train_test_split(X_train,Y_train,random_state = 0, test_size = 0.2)\n",
    "\n",
    "import gc\n",
    "del X_train\n",
    "del Y_train\n",
    "gc.collect()"
   ]
  },
  {
   "cell_type": "code",
   "execution_count": 49,
   "metadata": {},
   "outputs": [
    {
     "name": "stdout",
     "output_type": "stream",
     "text": [
      "No.of observations in train_X:  25569 | No.of observations in test_X:  6393\n"
     ]
    }
   ],
   "source": [
    "print('No.of observations in train_X: ',len(train_X), '| No.of observations in test_X: ',len(test_X))"
   ]
  },
  {
   "cell_type": "code",
   "execution_count": 50,
   "metadata": {},
   "outputs": [
    {
     "name": "stdout",
     "output_type": "stream",
     "text": [
      "No.of observations in train_Y:  25569 | No.of observations in test_Y:  6393\n"
     ]
    }
   ],
   "source": [
    "print('No.of observations in train_Y: ',len(train_Y), '| No.of observations in test_Y: ',len(test_Y))"
   ]
  },
  {
   "cell_type": "markdown",
   "metadata": {},
   "source": [
    "## Feature generation using DTM and TDM\n",
    "### Feature generation using DTM"
   ]
  },
  {
   "cell_type": "code",
   "execution_count": 51,
   "metadata": {},
   "outputs": [],
   "source": [
    "vect = CountVectorizer(ngram_range=(1,1))"
   ]
  },
  {
   "cell_type": "code",
   "execution_count": 52,
   "metadata": {},
   "outputs": [],
   "source": [
    "train_X_dtm = vect.fit_transform(train_X)\n",
    "test_X_dtm = vect.transform(test_X)\n",
    "X_test_dtm = vect.transform(X_test)"
   ]
  },
  {
   "cell_type": "code",
   "execution_count": 53,
   "metadata": {
    "scrolled": true
   },
   "outputs": [
    {
     "name": "stdout",
     "output_type": "stream",
     "text": [
      "  (0, 5556)\t1\n",
      "  (0, 8238)\t1\n",
      "  (0, 15289)\t1\n",
      "  (0, 8529)\t1\n",
      "  (0, 19297)\t1\n",
      "  (0, 16764)\t1\n",
      "  (0, 21718)\t1\n",
      "  (0, 19136)\t1\n",
      "  (0, 27101)\t1\n",
      "  (0, 14852)\t1\n",
      "  (0, 15336)\t1\n",
      "  (0, 9605)\t1\n",
      "  (0, 5829)\t1\n",
      "  (1, 17555)\t1\n",
      "  (1, 18721)\t1\n",
      "  (1, 26351)\t1\n",
      "  (1, 1599)\t1\n",
      "  (1, 5507)\t1\n",
      "  (1, 14776)\t1\n",
      "  (2, 25015)\t1\n",
      "  (2, 24560)\t1\n",
      "  (2, 8776)\t1\n",
      "  (2, 21452)\t1\n",
      "  (2, 9015)\t1\n",
      "  (2, 13580)\t1\n"
     ]
    }
   ],
   "source": [
    "print(train_X_dtm[:3,:])"
   ]
  },
  {
   "cell_type": "code",
   "execution_count": 54,
   "metadata": {
    "scrolled": true
   },
   "outputs": [
    {
     "name": "stdout",
     "output_type": "stream",
     "text": [
      "  (0, 20421)\t1\n",
      "  (0, 25156)\t1\n",
      "  (0, 25885)\t2\n",
      "  (1, 3481)\t1\n",
      "  (1, 5841)\t1\n",
      "  (1, 8436)\t1\n",
      "  (1, 11518)\t1\n",
      "  (1, 14499)\t1\n",
      "  (1, 20549)\t1\n",
      "  (1, 20971)\t1\n",
      "  (1, 23690)\t1\n",
      "  (1, 23794)\t1\n",
      "  (1, 25347)\t1\n",
      "  (1, 26400)\t1\n",
      "  (2, 8974)\t1\n",
      "  (2, 11990)\t1\n",
      "  (2, 14849)\t1\n",
      "  (2, 23127)\t1\n",
      "  (2, 26534)\t1\n"
     ]
    }
   ],
   "source": [
    "print(test_X_dtm[:3,:])"
   ]
  },
  {
   "cell_type": "code",
   "execution_count": 55,
   "metadata": {},
   "outputs": [
    {
     "name": "stdout",
     "output_type": "stream",
     "text": [
      "  (0, 6367)\t1\n",
      "  (0, 8995)\t1\n",
      "  (0, 19478)\t1\n",
      "  (0, 21852)\t1\n",
      "  (0, 24931)\t1\n",
      "  (1, 2747)\t1\n",
      "  (1, 8254)\t1\n",
      "  (1, 17137)\t1\n",
      "  (1, 17869)\t1\n",
      "  (1, 22971)\t1\n",
      "  (1, 25227)\t1\n",
      "  (1, 28113)\t1\n",
      "  (1, 28600)\t1\n",
      "  (2, 160)\t1\n",
      "  (2, 747)\t1\n",
      "  (2, 11409)\t2\n",
      "  (2, 11424)\t1\n",
      "  (2, 22535)\t1\n",
      "  (2, 28228)\t1\n"
     ]
    }
   ],
   "source": [
    "print(X_test_dtm[:3,:])"
   ]
  },
  {
   "cell_type": "code",
   "execution_count": 56,
   "metadata": {},
   "outputs": [
    {
     "data": {
      "text/plain": [
       "['aa', 'aaa', 'aaaaa', 'aaaaaand', 'aaaaah']"
      ]
     },
     "execution_count": 56,
     "metadata": {},
     "output_type": "execute_result"
    }
   ],
   "source": [
    "vect.get_feature_names()[:5]"
   ]
  },
  {
   "cell_type": "code",
   "execution_count": 57,
   "metadata": {},
   "outputs": [
    {
     "name": "stdout",
     "output_type": "stream",
     "text": [
      "No.of features for are 29626\n"
     ]
    }
   ],
   "source": [
    "print('No.of features for are',len(vect.get_feature_names()))"
   ]
  },
  {
   "cell_type": "code",
   "execution_count": 58,
   "metadata": {},
   "outputs": [],
   "source": [
    "train_X_dtm_df = pd.DataFrame(train_X_dtm.toarray(),columns=vect.get_feature_names())"
   ]
  },
  {
   "cell_type": "code",
   "execution_count": 59,
   "metadata": {},
   "outputs": [
    {
     "data": {
      "text/html": [
       "<div>\n",
       "<style scoped>\n",
       "    .dataframe tbody tr th:only-of-type {\n",
       "        vertical-align: middle;\n",
       "    }\n",
       "\n",
       "    .dataframe tbody tr th {\n",
       "        vertical-align: top;\n",
       "    }\n",
       "\n",
       "    .dataframe thead th {\n",
       "        text-align: right;\n",
       "    }\n",
       "</style>\n",
       "<table border=\"1\" class=\"dataframe\">\n",
       "  <thead>\n",
       "    <tr style=\"text-align: right;\">\n",
       "      <th></th>\n",
       "      <th>aa</th>\n",
       "      <th>aaa</th>\n",
       "      <th>aaaaa</th>\n",
       "      <th>aaaaaand</th>\n",
       "      <th>aaaaah</th>\n",
       "      <th>aaahh</th>\n",
       "      <th>aaahhhh</th>\n",
       "      <th>aaahhhhh</th>\n",
       "      <th>aaand</th>\n",
       "      <th>aaberg</th>\n",
       "      <th>...</th>\n",
       "      <th>zshq</th>\n",
       "      <th>zucchini</th>\n",
       "      <th>zuma</th>\n",
       "      <th>zumba</th>\n",
       "      <th>zurich</th>\n",
       "      <th>zx</th>\n",
       "      <th>zydeco</th>\n",
       "      <th>zz</th>\n",
       "      <th>zzzzzz</th>\n",
       "      <th>zzzzzzzz</th>\n",
       "    </tr>\n",
       "  </thead>\n",
       "  <tbody>\n",
       "    <tr>\n",
       "      <th>0</th>\n",
       "      <td>0</td>\n",
       "      <td>0</td>\n",
       "      <td>0</td>\n",
       "      <td>0</td>\n",
       "      <td>0</td>\n",
       "      <td>0</td>\n",
       "      <td>0</td>\n",
       "      <td>0</td>\n",
       "      <td>0</td>\n",
       "      <td>0</td>\n",
       "      <td>...</td>\n",
       "      <td>0</td>\n",
       "      <td>0</td>\n",
       "      <td>0</td>\n",
       "      <td>0</td>\n",
       "      <td>0</td>\n",
       "      <td>0</td>\n",
       "      <td>0</td>\n",
       "      <td>0</td>\n",
       "      <td>0</td>\n",
       "      <td>0</td>\n",
       "    </tr>\n",
       "    <tr>\n",
       "      <th>1</th>\n",
       "      <td>0</td>\n",
       "      <td>0</td>\n",
       "      <td>0</td>\n",
       "      <td>0</td>\n",
       "      <td>0</td>\n",
       "      <td>0</td>\n",
       "      <td>0</td>\n",
       "      <td>0</td>\n",
       "      <td>0</td>\n",
       "      <td>0</td>\n",
       "      <td>...</td>\n",
       "      <td>0</td>\n",
       "      <td>0</td>\n",
       "      <td>0</td>\n",
       "      <td>0</td>\n",
       "      <td>0</td>\n",
       "      <td>0</td>\n",
       "      <td>0</td>\n",
       "      <td>0</td>\n",
       "      <td>0</td>\n",
       "      <td>0</td>\n",
       "    </tr>\n",
       "    <tr>\n",
       "      <th>2</th>\n",
       "      <td>0</td>\n",
       "      <td>0</td>\n",
       "      <td>0</td>\n",
       "      <td>0</td>\n",
       "      <td>0</td>\n",
       "      <td>0</td>\n",
       "      <td>0</td>\n",
       "      <td>0</td>\n",
       "      <td>0</td>\n",
       "      <td>0</td>\n",
       "      <td>...</td>\n",
       "      <td>0</td>\n",
       "      <td>0</td>\n",
       "      <td>0</td>\n",
       "      <td>0</td>\n",
       "      <td>0</td>\n",
       "      <td>0</td>\n",
       "      <td>0</td>\n",
       "      <td>0</td>\n",
       "      <td>0</td>\n",
       "      <td>0</td>\n",
       "    </tr>\n",
       "    <tr>\n",
       "      <th>3</th>\n",
       "      <td>0</td>\n",
       "      <td>0</td>\n",
       "      <td>0</td>\n",
       "      <td>0</td>\n",
       "      <td>0</td>\n",
       "      <td>0</td>\n",
       "      <td>0</td>\n",
       "      <td>0</td>\n",
       "      <td>0</td>\n",
       "      <td>0</td>\n",
       "      <td>...</td>\n",
       "      <td>0</td>\n",
       "      <td>0</td>\n",
       "      <td>0</td>\n",
       "      <td>0</td>\n",
       "      <td>0</td>\n",
       "      <td>0</td>\n",
       "      <td>0</td>\n",
       "      <td>0</td>\n",
       "      <td>0</td>\n",
       "      <td>0</td>\n",
       "    </tr>\n",
       "    <tr>\n",
       "      <th>4</th>\n",
       "      <td>0</td>\n",
       "      <td>0</td>\n",
       "      <td>0</td>\n",
       "      <td>0</td>\n",
       "      <td>0</td>\n",
       "      <td>0</td>\n",
       "      <td>0</td>\n",
       "      <td>0</td>\n",
       "      <td>0</td>\n",
       "      <td>0</td>\n",
       "      <td>...</td>\n",
       "      <td>0</td>\n",
       "      <td>0</td>\n",
       "      <td>0</td>\n",
       "      <td>0</td>\n",
       "      <td>0</td>\n",
       "      <td>0</td>\n",
       "      <td>0</td>\n",
       "      <td>0</td>\n",
       "      <td>0</td>\n",
       "      <td>0</td>\n",
       "    </tr>\n",
       "  </tbody>\n",
       "</table>\n",
       "<p>5 rows × 29626 columns</p>\n",
       "</div>"
      ],
      "text/plain": [
       "   aa  aaa  aaaaa  aaaaaand  aaaaah  aaahh  aaahhhh  aaahhhhh  aaand  aaberg  \\\n",
       "0   0    0      0         0       0      0        0         0      0       0   \n",
       "1   0    0      0         0       0      0        0         0      0       0   \n",
       "2   0    0      0         0       0      0        0         0      0       0   \n",
       "3   0    0      0         0       0      0        0         0      0       0   \n",
       "4   0    0      0         0       0      0        0         0      0       0   \n",
       "\n",
       "   ...  zshq  zucchini  zuma  zumba  zurich  zx  zydeco  zz  zzzzzz  zzzzzzzz  \n",
       "0  ...     0         0     0      0       0   0       0   0       0         0  \n",
       "1  ...     0         0     0      0       0   0       0   0       0         0  \n",
       "2  ...     0         0     0      0       0   0       0   0       0         0  \n",
       "3  ...     0         0     0      0       0   0       0   0       0         0  \n",
       "4  ...     0         0     0      0       0   0       0   0       0         0  \n",
       "\n",
       "[5 rows x 29626 columns]"
      ]
     },
     "execution_count": 59,
     "metadata": {},
     "output_type": "execute_result"
    }
   ],
   "source": [
    "train_X_dtm_df.head()"
   ]
  },
  {
   "cell_type": "code",
   "execution_count": 60,
   "metadata": {},
   "outputs": [
    {
     "data": {
      "text/plain": [
       "aa          2\n",
       "aaa         3\n",
       "aaaaa       1\n",
       "aaaaaand    1\n",
       "aaaaah      1\n",
       "           ..\n",
       "zx          1\n",
       "zydeco      2\n",
       "zz          1\n",
       "zzzzzz      1\n",
       "zzzzzzzz    1\n",
       "Length: 29626, dtype: int64"
      ]
     },
     "execution_count": 60,
     "metadata": {},
     "output_type": "execute_result"
    }
   ],
   "source": [
    "# Finding how many times a tem is used in corpus\n",
    "train_dtm_freq = np.sum(train_X_dtm_df,axis=0)\n",
    "train_dtm_freq"
   ]
  },
  {
   "cell_type": "markdown",
   "metadata": {},
   "source": [
    "### Feature using TDM"
   ]
  },
  {
   "cell_type": "code",
   "execution_count": 61,
   "metadata": {},
   "outputs": [],
   "source": [
    "vect_tdm = TfidfVectorizer(ngram_range=(1,1))"
   ]
  },
  {
   "cell_type": "code",
   "execution_count": 62,
   "metadata": {},
   "outputs": [],
   "source": [
    "train_X_tdm = vect_tdm.fit_transform(train_X)\n",
    "test_X_tdm = vect_tdm.transform(test_X)\n",
    "X_test_tdm = vect_tdm.transform(X_test)"
   ]
  },
  {
   "cell_type": "code",
   "execution_count": 63,
   "metadata": {},
   "outputs": [
    {
     "name": "stdout",
     "output_type": "stream",
     "text": [
      "No.of features for are 29626\n"
     ]
    }
   ],
   "source": [
    "print('No.of features for are',len(vect_tdm.get_feature_names()))"
   ]
  },
  {
   "cell_type": "code",
   "execution_count": 64,
   "metadata": {},
   "outputs": [],
   "source": [
    "# creating dataframe to to see which features are present in the documents\n",
    "train_X_tdm_df = pd.DataFrame(train_X_tdm.toarray(),columns=vect_tdm.get_feature_names())"
   ]
  },
  {
   "cell_type": "code",
   "execution_count": 65,
   "metadata": {},
   "outputs": [
    {
     "data": {
      "text/html": [
       "<div>\n",
       "<style scoped>\n",
       "    .dataframe tbody tr th:only-of-type {\n",
       "        vertical-align: middle;\n",
       "    }\n",
       "\n",
       "    .dataframe tbody tr th {\n",
       "        vertical-align: top;\n",
       "    }\n",
       "\n",
       "    .dataframe thead th {\n",
       "        text-align: right;\n",
       "    }\n",
       "</style>\n",
       "<table border=\"1\" class=\"dataframe\">\n",
       "  <thead>\n",
       "    <tr style=\"text-align: right;\">\n",
       "      <th></th>\n",
       "      <th>aa</th>\n",
       "      <th>aaa</th>\n",
       "      <th>aaaaa</th>\n",
       "      <th>aaaaaand</th>\n",
       "      <th>aaaaah</th>\n",
       "      <th>aaahh</th>\n",
       "      <th>aaahhhh</th>\n",
       "      <th>aaahhhhh</th>\n",
       "      <th>aaand</th>\n",
       "      <th>aaberg</th>\n",
       "      <th>...</th>\n",
       "      <th>zshq</th>\n",
       "      <th>zucchini</th>\n",
       "      <th>zuma</th>\n",
       "      <th>zumba</th>\n",
       "      <th>zurich</th>\n",
       "      <th>zx</th>\n",
       "      <th>zydeco</th>\n",
       "      <th>zz</th>\n",
       "      <th>zzzzzz</th>\n",
       "      <th>zzzzzzzz</th>\n",
       "    </tr>\n",
       "  </thead>\n",
       "  <tbody>\n",
       "    <tr>\n",
       "      <th>count</th>\n",
       "      <td>25569.000000</td>\n",
       "      <td>25569.000000</td>\n",
       "      <td>25569.000000</td>\n",
       "      <td>25569.000000</td>\n",
       "      <td>25569.000000</td>\n",
       "      <td>25569.000000</td>\n",
       "      <td>25569.000000</td>\n",
       "      <td>25569.000000</td>\n",
       "      <td>25569.000000</td>\n",
       "      <td>25569.000000</td>\n",
       "      <td>...</td>\n",
       "      <td>25569.000000</td>\n",
       "      <td>25569.000000</td>\n",
       "      <td>25569.000000</td>\n",
       "      <td>25569.000000</td>\n",
       "      <td>25569.000000</td>\n",
       "      <td>25569.000000</td>\n",
       "      <td>25569.000000</td>\n",
       "      <td>25569.000000</td>\n",
       "      <td>25569.000000</td>\n",
       "      <td>25569.000000</td>\n",
       "    </tr>\n",
       "    <tr>\n",
       "      <th>mean</th>\n",
       "      <td>0.000030</td>\n",
       "      <td>0.000061</td>\n",
       "      <td>0.000018</td>\n",
       "      <td>0.000022</td>\n",
       "      <td>0.000019</td>\n",
       "      <td>0.000016</td>\n",
       "      <td>0.000014</td>\n",
       "      <td>0.000027</td>\n",
       "      <td>0.000018</td>\n",
       "      <td>0.000039</td>\n",
       "      <td>...</td>\n",
       "      <td>0.000013</td>\n",
       "      <td>0.000016</td>\n",
       "      <td>0.000031</td>\n",
       "      <td>0.000020</td>\n",
       "      <td>0.000061</td>\n",
       "      <td>0.000019</td>\n",
       "      <td>0.000026</td>\n",
       "      <td>0.000016</td>\n",
       "      <td>0.000025</td>\n",
       "      <td>0.000016</td>\n",
       "    </tr>\n",
       "    <tr>\n",
       "      <th>std</th>\n",
       "      <td>0.003417</td>\n",
       "      <td>0.005663</td>\n",
       "      <td>0.002799</td>\n",
       "      <td>0.003521</td>\n",
       "      <td>0.003057</td>\n",
       "      <td>0.002480</td>\n",
       "      <td>0.002240</td>\n",
       "      <td>0.004376</td>\n",
       "      <td>0.002801</td>\n",
       "      <td>0.004405</td>\n",
       "      <td>...</td>\n",
       "      <td>0.002132</td>\n",
       "      <td>0.002493</td>\n",
       "      <td>0.003472</td>\n",
       "      <td>0.003178</td>\n",
       "      <td>0.005916</td>\n",
       "      <td>0.002997</td>\n",
       "      <td>0.004212</td>\n",
       "      <td>0.002573</td>\n",
       "      <td>0.004003</td>\n",
       "      <td>0.002637</td>\n",
       "    </tr>\n",
       "    <tr>\n",
       "      <th>min</th>\n",
       "      <td>0.000000</td>\n",
       "      <td>0.000000</td>\n",
       "      <td>0.000000</td>\n",
       "      <td>0.000000</td>\n",
       "      <td>0.000000</td>\n",
       "      <td>0.000000</td>\n",
       "      <td>0.000000</td>\n",
       "      <td>0.000000</td>\n",
       "      <td>0.000000</td>\n",
       "      <td>0.000000</td>\n",
       "      <td>...</td>\n",
       "      <td>0.000000</td>\n",
       "      <td>0.000000</td>\n",
       "      <td>0.000000</td>\n",
       "      <td>0.000000</td>\n",
       "      <td>0.000000</td>\n",
       "      <td>0.000000</td>\n",
       "      <td>0.000000</td>\n",
       "      <td>0.000000</td>\n",
       "      <td>0.000000</td>\n",
       "      <td>0.000000</td>\n",
       "    </tr>\n",
       "    <tr>\n",
       "      <th>25%</th>\n",
       "      <td>0.000000</td>\n",
       "      <td>0.000000</td>\n",
       "      <td>0.000000</td>\n",
       "      <td>0.000000</td>\n",
       "      <td>0.000000</td>\n",
       "      <td>0.000000</td>\n",
       "      <td>0.000000</td>\n",
       "      <td>0.000000</td>\n",
       "      <td>0.000000</td>\n",
       "      <td>0.000000</td>\n",
       "      <td>...</td>\n",
       "      <td>0.000000</td>\n",
       "      <td>0.000000</td>\n",
       "      <td>0.000000</td>\n",
       "      <td>0.000000</td>\n",
       "      <td>0.000000</td>\n",
       "      <td>0.000000</td>\n",
       "      <td>0.000000</td>\n",
       "      <td>0.000000</td>\n",
       "      <td>0.000000</td>\n",
       "      <td>0.000000</td>\n",
       "    </tr>\n",
       "    <tr>\n",
       "      <th>50%</th>\n",
       "      <td>0.000000</td>\n",
       "      <td>0.000000</td>\n",
       "      <td>0.000000</td>\n",
       "      <td>0.000000</td>\n",
       "      <td>0.000000</td>\n",
       "      <td>0.000000</td>\n",
       "      <td>0.000000</td>\n",
       "      <td>0.000000</td>\n",
       "      <td>0.000000</td>\n",
       "      <td>0.000000</td>\n",
       "      <td>...</td>\n",
       "      <td>0.000000</td>\n",
       "      <td>0.000000</td>\n",
       "      <td>0.000000</td>\n",
       "      <td>0.000000</td>\n",
       "      <td>0.000000</td>\n",
       "      <td>0.000000</td>\n",
       "      <td>0.000000</td>\n",
       "      <td>0.000000</td>\n",
       "      <td>0.000000</td>\n",
       "      <td>0.000000</td>\n",
       "    </tr>\n",
       "    <tr>\n",
       "      <th>75%</th>\n",
       "      <td>0.000000</td>\n",
       "      <td>0.000000</td>\n",
       "      <td>0.000000</td>\n",
       "      <td>0.000000</td>\n",
       "      <td>0.000000</td>\n",
       "      <td>0.000000</td>\n",
       "      <td>0.000000</td>\n",
       "      <td>0.000000</td>\n",
       "      <td>0.000000</td>\n",
       "      <td>0.000000</td>\n",
       "      <td>...</td>\n",
       "      <td>0.000000</td>\n",
       "      <td>0.000000</td>\n",
       "      <td>0.000000</td>\n",
       "      <td>0.000000</td>\n",
       "      <td>0.000000</td>\n",
       "      <td>0.000000</td>\n",
       "      <td>0.000000</td>\n",
       "      <td>0.000000</td>\n",
       "      <td>0.000000</td>\n",
       "      <td>0.000000</td>\n",
       "    </tr>\n",
       "    <tr>\n",
       "      <th>max</th>\n",
       "      <td>0.413111</td>\n",
       "      <td>0.621822</td>\n",
       "      <td>0.447527</td>\n",
       "      <td>0.562942</td>\n",
       "      <td>0.488902</td>\n",
       "      <td>0.396598</td>\n",
       "      <td>0.358213</td>\n",
       "      <td>0.699657</td>\n",
       "      <td>0.447842</td>\n",
       "      <td>0.511636</td>\n",
       "      <td>...</td>\n",
       "      <td>0.340956</td>\n",
       "      <td>0.398700</td>\n",
       "      <td>0.404517</td>\n",
       "      <td>0.508190</td>\n",
       "      <td>0.764328</td>\n",
       "      <td>0.479269</td>\n",
       "      <td>0.673585</td>\n",
       "      <td>0.411482</td>\n",
       "      <td>0.640043</td>\n",
       "      <td>0.421590</td>\n",
       "    </tr>\n",
       "  </tbody>\n",
       "</table>\n",
       "<p>8 rows × 29626 columns</p>\n",
       "</div>"
      ],
      "text/plain": [
       "                 aa           aaa         aaaaa      aaaaaand        aaaaah  \\\n",
       "count  25569.000000  25569.000000  25569.000000  25569.000000  25569.000000   \n",
       "mean       0.000030      0.000061      0.000018      0.000022      0.000019   \n",
       "std        0.003417      0.005663      0.002799      0.003521      0.003057   \n",
       "min        0.000000      0.000000      0.000000      0.000000      0.000000   \n",
       "25%        0.000000      0.000000      0.000000      0.000000      0.000000   \n",
       "50%        0.000000      0.000000      0.000000      0.000000      0.000000   \n",
       "75%        0.000000      0.000000      0.000000      0.000000      0.000000   \n",
       "max        0.413111      0.621822      0.447527      0.562942      0.488902   \n",
       "\n",
       "              aaahh       aaahhhh      aaahhhhh         aaand        aaberg  \\\n",
       "count  25569.000000  25569.000000  25569.000000  25569.000000  25569.000000   \n",
       "mean       0.000016      0.000014      0.000027      0.000018      0.000039   \n",
       "std        0.002480      0.002240      0.004376      0.002801      0.004405   \n",
       "min        0.000000      0.000000      0.000000      0.000000      0.000000   \n",
       "25%        0.000000      0.000000      0.000000      0.000000      0.000000   \n",
       "50%        0.000000      0.000000      0.000000      0.000000      0.000000   \n",
       "75%        0.000000      0.000000      0.000000      0.000000      0.000000   \n",
       "max        0.396598      0.358213      0.699657      0.447842      0.511636   \n",
       "\n",
       "       ...          zshq      zucchini          zuma         zumba  \\\n",
       "count  ...  25569.000000  25569.000000  25569.000000  25569.000000   \n",
       "mean   ...      0.000013      0.000016      0.000031      0.000020   \n",
       "std    ...      0.002132      0.002493      0.003472      0.003178   \n",
       "min    ...      0.000000      0.000000      0.000000      0.000000   \n",
       "25%    ...      0.000000      0.000000      0.000000      0.000000   \n",
       "50%    ...      0.000000      0.000000      0.000000      0.000000   \n",
       "75%    ...      0.000000      0.000000      0.000000      0.000000   \n",
       "max    ...      0.340956      0.398700      0.404517      0.508190   \n",
       "\n",
       "             zurich            zx        zydeco            zz        zzzzzz  \\\n",
       "count  25569.000000  25569.000000  25569.000000  25569.000000  25569.000000   \n",
       "mean       0.000061      0.000019      0.000026      0.000016      0.000025   \n",
       "std        0.005916      0.002997      0.004212      0.002573      0.004003   \n",
       "min        0.000000      0.000000      0.000000      0.000000      0.000000   \n",
       "25%        0.000000      0.000000      0.000000      0.000000      0.000000   \n",
       "50%        0.000000      0.000000      0.000000      0.000000      0.000000   \n",
       "75%        0.000000      0.000000      0.000000      0.000000      0.000000   \n",
       "max        0.764328      0.479269      0.673585      0.411482      0.640043   \n",
       "\n",
       "           zzzzzzzz  \n",
       "count  25569.000000  \n",
       "mean       0.000016  \n",
       "std        0.002637  \n",
       "min        0.000000  \n",
       "25%        0.000000  \n",
       "50%        0.000000  \n",
       "75%        0.000000  \n",
       "max        0.421590  \n",
       "\n",
       "[8 rows x 29626 columns]"
      ]
     },
     "execution_count": 65,
     "metadata": {},
     "output_type": "execute_result"
    }
   ],
   "source": [
    "train_X_tdm_df.describe()"
   ]
  },
  {
   "cell_type": "code",
   "execution_count": 66,
   "metadata": {},
   "outputs": [
    {
     "data": {
      "text/plain": [
       "aa          0.770664\n",
       "aaa         1.552513\n",
       "aaaaa       0.447527\n",
       "aaaaaand    0.562942\n",
       "aaaaah      0.488902\n",
       "              ...   \n",
       "zx          0.479269\n",
       "zydeco      0.673585\n",
       "zz          0.411482\n",
       "zzzzzz      0.640043\n",
       "zzzzzzzz    0.421590\n",
       "Length: 29626, dtype: float64"
      ]
     },
     "execution_count": 66,
     "metadata": {},
     "output_type": "execute_result"
    }
   ],
   "source": [
    "# Finding how many times a tem is used in corpus\n",
    "train_tdm_freq = np.sum(train_X_tdm_df,axis=0)\n",
    "train_tdm_freq"
   ]
  },
  {
   "cell_type": "markdown",
   "metadata": {},
   "source": [
    "## Building model\n",
    "#### Build model on DTM"
   ]
  },
  {
   "cell_type": "code",
   "execution_count": 67,
   "metadata": {},
   "outputs": [
    {
     "data": {
      "text/plain": [
       "MultinomialNB(alpha=0.45)"
      ]
     },
     "execution_count": 67,
     "metadata": {},
     "output_type": "execute_result"
    }
   ],
   "source": [
    "# # building naive bayes model on DTM\n",
    "built_model = MultinomialNB(alpha=0.45)\n",
    "built_model.fit(train_X_dtm,train_Y)\n",
    "\n",
    "# # building model on DTM\n",
    "# built_model = LogisticRegression()\n",
    "# built_model.fit(train_X_dtm,train_Y)"
   ]
  },
  {
   "cell_type": "code",
   "execution_count": 68,
   "metadata": {},
   "outputs": [],
   "source": [
    "predict_train = built_model.predict(train_X_dtm)\n",
    "predict_test = built_model.predict(test_X_dtm)"
   ]
  },
  {
   "cell_type": "code",
   "execution_count": 69,
   "metadata": {},
   "outputs": [
    {
     "name": "stdout",
     "output_type": "stream",
     "text": [
      "First 5 predicted results from test.csv: \n",
      "    0\n",
      "0  0\n",
      "1  0\n",
      "2  0\n",
      "3  0\n",
      "4  0\n"
     ]
    },
    {
     "data": {
      "image/png": "[encoded data removed]",
      "text/plain": [
       "<Figure size 576x432 with 1 Axes>"
      ]
     },
     "metadata": {
      "needs_background": "light"
     },
     "output_type": "display_data"
    }
   ],
   "source": [
    "\n",
    "test_predict = built_model.predict(X_test_dtm)\n",
    "test_predict = pd.DataFrame(test_predict)\n",
    "print('First 5 predicted results from test.csv: \\n', test_predict[:5])\n",
    "plt.figure(figsize=(8,6))\n",
    "sns.countplot(x=test_predict[0], data=test_predict)\n",
    "plt.title('Test data set predicted distribution with dtm')\n",
    "plt.show()"
   ]
  },
  {
   "cell_type": "code",
   "execution_count": 70,
   "metadata": {
    "scrolled": true
   },
   "outputs": [
    {
     "name": "stdout",
     "output_type": "stream",
     "text": [
      "Classification for training data: \n",
      "               precision    recall  f1-score   support\n",
      "\n",
      "           0       0.99      0.99      0.99     23735\n",
      "           1       0.81      0.85      0.83      1834\n",
      "\n",
      "    accuracy                           0.98     25569\n",
      "   macro avg       0.90      0.92      0.91     25569\n",
      "weighted avg       0.98      0.98      0.98     25569\n",
      "\n",
      "Classification for testing data: \n",
      "               precision    recall  f1-score   support\n",
      "\n",
      "           0       0.98      0.99      0.98      5985\n",
      "           1       0.75      0.64      0.69       408\n",
      "\n",
      "    accuracy                           0.96      6393\n",
      "   macro avg       0.86      0.81      0.83      6393\n",
      "weighted avg       0.96      0.96      0.96      6393\n",
      "\n"
     ]
    }
   ],
   "source": [
    "print('Classification for training data: \\n', metrics.classification_report(train_Y,predict_train))\n",
    "print('Classification for testing data: \\n', metrics.classification_report(test_Y,predict_test))"
   ]
  },
  {
   "cell_type": "code",
   "execution_count": 71,
   "metadata": {},
   "outputs": [
    {
     "name": "stdout",
     "output_type": "stream",
     "text": [
      "Accuracy on train:  0.9755563377527474\n",
      "Accuracy on test:  0.9632410448928516\n"
     ]
    }
   ],
   "source": [
    "print('Accuracy on train: ',metrics.accuracy_score(train_Y,predict_train))\n",
    "print('Accuracy on test: ',metrics.accuracy_score(test_Y,predict_test))"
   ]
  },
  {
   "cell_type": "code",
   "execution_count": 72,
   "metadata": {},
   "outputs": [],
   "source": [
    "# predict probabilities on train and test\n",
    "predict_prob_train = built_model.predict_proba(train_X_dtm)[:,1]\n",
    "predict_prob_test = built_model.predict_proba(test_X_dtm)[:,1]\n",
    "\n",
    "# predict_prob_train = built_model.predict(train_X_dtm)\n",
    "# predict_prob_test = built_model.predict(test_X_dtm)"
   ]
  },
  {
   "cell_type": "code",
   "execution_count": 73,
   "metadata": {},
   "outputs": [
    {
     "name": "stdout",
     "output_type": "stream",
     "text": [
      "ROC_AUC score on train:  0.9857971596134067\n",
      "ROC_AUC score on test:  0.9543816649466804\n"
     ]
    }
   ],
   "source": [
    "print('ROC_AUC score on train: ',metrics.roc_auc_score(train_Y,predict_prob_train))\n",
    "print('ROC_AUC score on test: ',metrics.roc_auc_score(test_Y,predict_prob_test))"
   ]
  },
  {
   "cell_type": "code",
   "execution_count": 74,
   "metadata": {},
   "outputs": [],
   "source": [
    "# confusion matrix on test \n",
    "cm_test = metrics.confusion_matrix(test_Y,predict_test)"
   ]
  },
  {
   "cell_type": "code",
   "execution_count": 75,
   "metadata": {},
   "outputs": [
    {
     "data": {
      "text/plain": [
       "array([[5898,   87],\n",
       "       [ 148,  260]], dtype=int64)"
      ]
     },
     "execution_count": 75,
     "metadata": {},
     "output_type": "execute_result"
    }
   ],
   "source": [
    "cm_test"
   ]
  },
  {
   "cell_type": "code",
   "execution_count": 76,
   "metadata": {},
   "outputs": [
    {
     "data": {
      "image/png": "[encoded data removed]",
      "text/plain": [
       "<Figure size 432x288 with 2 Axes>"
      ]
     },
     "metadata": {
      "needs_background": "light"
     },
     "output_type": "display_data"
    }
   ],
   "source": [
    "import seaborn as sns\n",
    "sns.heatmap(cm_test,annot=True,xticklabels=[0,1],yticklabels=[0,1])\n",
    "plt.xlabel('Predicted')\n",
    "plt.ylabel('Actual')\n",
    "plt.show()"
   ]
  },
  {
   "cell_type": "markdown",
   "metadata": {},
   "source": [
    "#### Building Model on TDM"
   ]
  },
  {
   "cell_type": "code",
   "execution_count": 77,
   "metadata": {},
   "outputs": [
    {
     "data": {
      "text/plain": [
       "MultinomialNB(alpha=0.45)"
      ]
     },
     "execution_count": 77,
     "metadata": {},
     "output_type": "execute_result"
    }
   ],
   "source": [
    "# # building naive bayes model on TDM\n",
    "built_model = MultinomialNB(alpha=0.45)\n",
    "built_model.fit(train_X_tdm,train_Y)\n",
    "\n",
    "# # building naive bayes model on TDM\n",
    "# built_model = LogisticRegression()\n",
    "# built_model.fit(train_X_tdm,train_Y)"
   ]
  },
  {
   "cell_type": "code",
   "execution_count": 78,
   "metadata": {},
   "outputs": [],
   "source": [
    "predict_train = built_model.predict(train_X_tdm)\n",
    "predict_test = built_model.predict(test_X_tdm)"
   ]
  },
  {
   "cell_type": "code",
   "execution_count": 79,
   "metadata": {},
   "outputs": [
    {
     "name": "stdout",
     "output_type": "stream",
     "text": [
      "First 5 predicted results from test.csv: \n",
      "    0\n",
      "0  0\n",
      "1  0\n",
      "2  0\n",
      "3  0\n",
      "4  0\n"
     ]
    },
    {
     "data": {
      "image/png": "[encoded data removed]",
      "text/plain": [
       "<Figure size 576x432 with 1 Axes>"
      ]
     },
     "metadata": {
      "needs_background": "light"
     },
     "output_type": "display_data"
    }
   ],
   "source": [
    "\n",
    "# test_predict = collections.Counter(built_model.predict(X_test_dtm))\n",
    "# test_predict = pd.DataFrame.from_dict(test_predict, orient='index')\n",
    "# test_predict\n",
    "test_predict = built_model.predict(X_test_tdm)\n",
    "test_predict = pd.DataFrame(test_predict)\n",
    "print('First 5 predicted results from test.csv: \\n', test_predict[:5])\n",
    "\n",
    "plt.figure(figsize=(8,6))\n",
    "sns.countplot(x=test_predict[0], data=test_predict)\n",
    "plt.title('test data set predicted distribution with tdm')\n",
    "plt.show()"
   ]
  },
  {
   "cell_type": "code",
   "execution_count": 80,
   "metadata": {},
   "outputs": [
    {
     "name": "stdout",
     "output_type": "stream",
     "text": [
      "Classification for training data: \n",
      "               precision    recall  f1-score   support\n",
      "\n",
      "           0       0.96      1.00      0.98     23735\n",
      "           1       0.99      0.48      0.64      1834\n",
      "\n",
      "    accuracy                           0.96     25569\n",
      "   macro avg       0.98      0.74      0.81     25569\n",
      "weighted avg       0.96      0.96      0.96     25569\n",
      "\n",
      "Classification for testing data:: \n",
      "               precision    recall  f1-score   support\n",
      "\n",
      "           0       0.95      1.00      0.98      5985\n",
      "           1       0.98      0.28      0.44       408\n",
      "\n",
      "    accuracy                           0.95      6393\n",
      "   macro avg       0.97      0.64      0.71      6393\n",
      "weighted avg       0.96      0.95      0.94      6393\n",
      "\n"
     ]
    }
   ],
   "source": [
    "print('Classification for training data: \\n', metrics.classification_report(train_Y,predict_train))\n",
    "print('Classification for testing data:: \\n', metrics.classification_report(test_Y,predict_test))"
   ]
  },
  {
   "cell_type": "code",
   "execution_count": 81,
   "metadata": {},
   "outputs": [
    {
     "name": "stdout",
     "output_type": "stream",
     "text": [
      "Accuracy on train:  0.9621807657710508\n",
      "Accuracy on test:  0.9540122008446739\n"
     ]
    }
   ],
   "source": [
    "print('Accuracy on train: ',metrics.accuracy_score(train_Y,predict_train))\n",
    "print('Accuracy on test: ',metrics.accuracy_score(test_Y,predict_test))"
   ]
  },
  {
   "cell_type": "code",
   "execution_count": 82,
   "metadata": {},
   "outputs": [],
   "source": [
    "# predict probabilities on train and test\n",
    "predict_prob_train = built_model.predict_proba(train_X_tdm)[:,1]\n",
    "predict_prob_test = built_model.predict_proba(test_X_tdm)[:,1]\n",
    "\n",
    "# predict_prob_train = built_model.predict(train_X_tdm)\n",
    "# predict_prob_test = built_model.predict(test_X_tdm)"
   ]
  },
  {
   "cell_type": "code",
   "execution_count": 83,
   "metadata": {},
   "outputs": [
    {
     "name": "stdout",
     "output_type": "stream",
     "text": [
      "ROC_AUC score on train:  0.9759417817463316\n",
      "ROC_AUC score on test:  0.942380665716579\n"
     ]
    }
   ],
   "source": [
    "print('ROC_AUC score on train: ',metrics.roc_auc_score(train_Y,predict_prob_train))\n",
    "print('ROC_AUC score on test: ',metrics.roc_auc_score(test_Y,predict_prob_test))"
   ]
  },
  {
   "cell_type": "code",
   "execution_count": 84,
   "metadata": {},
   "outputs": [],
   "source": [
    "# confusion matrix on test \n",
    "cm_test = metrics.confusion_matrix(test_Y,predict_test, labels=[0,1])"
   ]
  },
  {
   "cell_type": "code",
   "execution_count": 85,
   "metadata": {},
   "outputs": [
    {
     "data": {
      "text/plain": [
       "array([[5983,    2],\n",
       "       [ 292,  116]], dtype=int64)"
      ]
     },
     "execution_count": 85,
     "metadata": {},
     "output_type": "execute_result"
    }
   ],
   "source": [
    "cm_test"
   ]
  },
  {
   "cell_type": "code",
   "execution_count": 86,
   "metadata": {},
   "outputs": [],
   "source": [
    "# tn, fp, fn, tp = metrics.confusion_matrix(test_Y,predict_test).ravel()\n",
    "# tn, fp, fn, tp"
   ]
  },
  {
   "cell_type": "code",
   "execution_count": 87,
   "metadata": {
    "scrolled": true
   },
   "outputs": [
    {
     "data": {
      "image/png": "[encoded data removed]",
      "text/plain": [
       "<Figure size 432x288 with 2 Axes>"
      ]
     },
     "metadata": {
      "needs_background": "light"
     },
     "output_type": "display_data"
    }
   ],
   "source": [
    "import seaborn as sns\n",
    "sns.heatmap(cm_test,annot=True,xticklabels=[1,5],yticklabels=[1,5])\n",
    "plt.xlabel('Predicted')\n",
    "plt.ylabel('Actual')\n",
    "plt.show()"
   ]
  },
  {
   "cell_type": "markdown",
   "metadata": {},
   "source": [
    "## Interpretation of DTM and TDM"
   ]
  },
  {
   "cell_type": "markdown",
   "metadata": {},
   "source": [
    "Answer: \n",
    "\n",
    "\n",
    "- Document Term Matrix (DTM) as an implementation of the Bag of Words concept. Term Document Matrix is tracking the term frequency for each term by each document. Starting with the Bag of Words representation of the documents and then for each document, track the number of time a term exists. A Document Term matrix can become a very large, sparse matrix (so much 0s than values) depending on the number of documents in the corpus and the number of terms in each document.\n",
    "\n",
    "- Count vectorizer is to simply count the times that the term appears in the document and it will be the value of cell (document, term).\n",
    "\n",
    "- TFIDF, short for term frequency–inverse document frequency, is a numerical statistic that is intended to reflect how important a word is to a document in a collection or corpus. It is often used as a weighting factor in searches of information retrieval, text mining, and user modeling. The tf–idf value increases proportionally to the number of times a word appears in the document and is offset by the number of documents in the corpus that contain the word, which helps to adjust for the fact that some words appear more frequently in general.\n",
    "\n",
    "- Due to the numerical statistical nature of TFIDF TDM, the performance is slightly better compare to CountVectorizer DTM for this Twitter Data sentiment analysis. \n"
   ]
  }
 ],
 "metadata": {
  "kernelspec": {
   "display_name": "Python 3",
   "language": "python",
   "name": "python3"
  },
  "language_info": {
   "codemirror_mode": {
    "name": "ipython",
    "version": 3
   },
   "file_extension": ".py",
   "mimetype": "text/x-python",
   "name": "python",
   "nbconvert_exporter": "python",
   "pygments_lexer": "ipython3",
   "version": "3.8.7"
  }
 },
 "nbformat": 4,
 "nbformat_minor": 4
}
